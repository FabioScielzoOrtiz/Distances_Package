{
 "cells": [
  {
   "cell_type": "markdown",
   "metadata": {},
   "source": [
    "# **PyDistances**"
   ]
  },
  {
   "cell_type": "markdown",
   "metadata": {},
   "source": [
    "## **Requirements**"
   ]
  },
  {
   "cell_type": "code",
   "execution_count": null,
   "metadata": {},
   "outputs": [],
   "source": [
    "pip install PyDistances --upgrade"
   ]
  },
  {
   "cell_type": "code",
   "execution_count": 63,
   "metadata": {},
   "outputs": [],
   "source": [
    "import polars as pl\n",
    "import numpy as np\n",
    "from PyMachineLearning.preprocessing import encoder\n",
    "from PyDistances.quantitative import (Euclidean_dist, Euclidean_dist_matrix,\n",
    "                                      Minkowski_dist, Minkowski_dist_matrix,\n",
    "                                      Canberra_dist, Canberra_dist_matrix,\n",
    "                                      Pearson_dist_matrix,\n",
    "                                      Mahalanobis_dist, Mahalanobis_dist_matrix)\n",
    "from PyDistances.binary import (Sokal_dist, Sokal_dist_matrix,\n",
    "                                Jaccard_dist, Jaccard_dist_matrix)"
   ]
  },
  {
   "cell_type": "markdown",
   "metadata": {},
   "source": [
    "## **Data processing**"
   ]
  },
  {
   "cell_type": "code",
   "execution_count": 34,
   "metadata": {},
   "outputs": [],
   "source": [
    "madrid_houses_df = pl.read_csv('madrid_houses.csv')\n",
    "columns_to_exclude = ['id','sq_mt_allotment','floor', 'neighborhood', 'district'] \n",
    "madrid_houses_df = madrid_houses_df.select(pl.exclude(columns_to_exclude))\n",
    "\n",
    "binary_cols = ['is_renewal_needed', 'has_lift', 'is_exterior', 'has_parking']\n",
    "multi_cols = ['energy_certificate', 'house_type']\n",
    "quant_cols = [x for x in madrid_houses_df.columns if x not in binary_cols + multi_cols]\n",
    "\n",
    "encoder_ = encoder(method='ordinal')\n",
    "encoded_arr = encoder_.fit_transform(madrid_houses_df[binary_cols + multi_cols])\n",
    "cat_df = pl.DataFrame(encoded_arr)\n",
    "cat_df.columns =  binary_cols + multi_cols\n",
    "cat_df = cat_df.with_columns([pl.col(col).cast(pl.Int64) for col in cat_df.columns])\n",
    "quant_df = madrid_houses_df[quant_cols]\n",
    "\n",
    "madrid_houses_df = pl.concat([quant_df, cat_df], how='horizontal')"
   ]
  },
  {
   "cell_type": "code",
   "execution_count": 35,
   "metadata": {},
   "outputs": [
    {
     "data": {
      "text/html": [
       "<div><style>\n",
       ".dataframe > thead > tr > th,\n",
       ".dataframe > tbody > tr > td {\n",
       "  text-align: right;\n",
       "  white-space: pre-wrap;\n",
       "}\n",
       "</style>\n",
       "<small>shape: (5, 12)</small><table border=\"1\" class=\"dataframe\"><thead><tr><th></th><th>sq_mt_built</th><th>n_rooms</th><th>n_bathrooms</th><th>n_floors</th><th>buy_price</th><th>is_renewal_needed</th><th>has_lift</th><th>is_exterior</th><th>has_parking</th><th>energy_certificate</th><th>house_type</th></tr><tr><td>i64</td><td>f64</td><td>i64</td><td>i64</td><td>i64</td><td>i64</td><td>i64</td><td>i64</td><td>i64</td><td>i64</td><td>i64</td><td>i64</td></tr></thead><tbody><tr><td>0</td><td>64.0</td><td>2</td><td>1</td><td>1</td><td>85000</td><td>0</td><td>0</td><td>1</td><td>0</td><td>4</td><td>0</td></tr><tr><td>1</td><td>70.0</td><td>3</td><td>1</td><td>1</td><td>129900</td><td>1</td><td>1</td><td>1</td><td>0</td><td>0</td><td>0</td></tr><tr><td>2</td><td>94.0</td><td>2</td><td>2</td><td>1</td><td>144247</td><td>0</td><td>1</td><td>1</td><td>0</td><td>0</td><td>0</td></tr><tr><td>3</td><td>64.0</td><td>2</td><td>1</td><td>1</td><td>109900</td><td>0</td><td>1</td><td>1</td><td>0</td><td>0</td><td>0</td></tr><tr><td>4</td><td>108.0</td><td>2</td><td>2</td><td>1</td><td>260000</td><td>0</td><td>1</td><td>1</td><td>1</td><td>0</td><td>0</td></tr></tbody></table></div>"
      ],
      "text/plain": [
       "shape: (5, 12)\n",
       "┌─────┬─────────────┬─────────┬────────────┬───┬────────────┬────────────┬────────────┬────────────┐\n",
       "│     ┆ sq_mt_built ┆ n_rooms ┆ n_bathroom ┆ … ┆ is_exterio ┆ has_parkin ┆ energy_cer ┆ house_type │\n",
       "│ --- ┆ ---         ┆ ---     ┆ s          ┆   ┆ r          ┆ g          ┆ tificate   ┆ ---        │\n",
       "│ i64 ┆ f64         ┆ i64     ┆ ---        ┆   ┆ ---        ┆ ---        ┆ ---        ┆ i64        │\n",
       "│     ┆             ┆         ┆ i64        ┆   ┆ i64        ┆ i64        ┆ i64        ┆            │\n",
       "╞═════╪═════════════╪═════════╪════════════╪═══╪════════════╪════════════╪════════════╪════════════╡\n",
       "│ 0   ┆ 64.0        ┆ 2       ┆ 1          ┆ … ┆ 1          ┆ 0          ┆ 4          ┆ 0          │\n",
       "│ 1   ┆ 70.0        ┆ 3       ┆ 1          ┆ … ┆ 1          ┆ 0          ┆ 0          ┆ 0          │\n",
       "│ 2   ┆ 94.0        ┆ 2       ┆ 2          ┆ … ┆ 1          ┆ 0          ┆ 0          ┆ 0          │\n",
       "│ 3   ┆ 64.0        ┆ 2       ┆ 1          ┆ … ┆ 1          ┆ 0          ┆ 0          ┆ 0          │\n",
       "│ 4   ┆ 108.0       ┆ 2       ┆ 2          ┆ … ┆ 1          ┆ 1          ┆ 0          ┆ 0          │\n",
       "└─────┴─────────────┴─────────┴────────────┴───┴────────────┴────────────┴────────────┴────────────┘"
      ]
     },
     "execution_count": 35,
     "metadata": {},
     "output_type": "execute_result"
    }
   ],
   "source": [
    "madrid_houses_df.head()"
   ]
  },
  {
   "cell_type": "code",
   "execution_count": 37,
   "metadata": {},
   "outputs": [
    {
     "data": {
      "text/plain": [
       "(21739, 12)"
      ]
     },
     "execution_count": 37,
     "metadata": {},
     "output_type": "execute_result"
    }
   ],
   "source": [
    "madrid_houses_df.shape"
   ]
  },
  {
   "cell_type": "markdown",
   "metadata": {},
   "source": [
    "## **Classic distances**\n",
    "\n",
    "### **Quantitative data**"
   ]
  },
  {
   "cell_type": "markdown",
   "metadata": {},
   "source": [
    "#### **Euclidean**  \n"
   ]
  },
  {
   "cell_type": "markdown",
   "metadata": {},
   "source": [
    "\n",
    "##### **Using data-set as input**\n"
   ]
  },
  {
   "cell_type": "code",
   "execution_count": 38,
   "metadata": {},
   "outputs": [
    {
     "data": {
      "text/plain": [
       "array([[     0.        ,  44900.00042316,  59247.00763752, ...,\n",
       "        595397.00742194, 610387.31821443, 339696.43970168],\n",
       "       [ 44900.00042316,      0.        ,  14347.02017842, ...,\n",
       "        550529.34678453, 565518.02985493, 294902.42048176],\n",
       "       [ 59247.00763752,  14347.02017842,      0.        , ...,\n",
       "        536193.79028762, 551181.86262521, 280596.37491244],\n",
       "       ...,\n",
       "       [595397.00742194, 550529.34678453, 536193.79028762, ...,\n",
       "             0.        ,  15000.43339374, 256000.02073633],\n",
       "       [610387.31821443, 565518.02985493, 551181.86262521, ...,\n",
       "         15000.43339374,      0.        , 271000.08689851],\n",
       "       [339696.43970168, 294902.42048176, 280596.37491244, ...,\n",
       "        256000.02073633, 271000.08689851,      0.        ]])"
      ]
     },
     "execution_count": 38,
     "metadata": {},
     "output_type": "execute_result"
    }
   ],
   "source": [
    "Euclidean_dist_matrix(X=madrid_houses_df[quant_cols])"
   ]
  },
  {
   "cell_type": "markdown",
   "metadata": {},
   "source": [
    "\n",
    "##### **Using couple of observations as input**  "
   ]
  },
  {
   "cell_type": "code",
   "execution_count": 46,
   "metadata": {},
   "outputs": [],
   "source": [
    "x1 = madrid_houses_df[quant_cols][0,:].to_numpy().flatten()\n",
    "x3 = madrid_houses_df[quant_cols][2,:].to_numpy().flatten()"
   ]
  },
  {
   "cell_type": "code",
   "execution_count": 47,
   "metadata": {},
   "outputs": [
    {
     "data": {
      "text/plain": [
       "59247.00763751702"
      ]
     },
     "execution_count": 47,
     "metadata": {},
     "output_type": "execute_result"
    }
   ],
   "source": [
    "Euclidean_dist(x1, x3)"
   ]
  },
  {
   "cell_type": "markdown",
   "metadata": {},
   "source": [
    "#### **Minkowski**  \n"
   ]
  },
  {
   "cell_type": "markdown",
   "metadata": {},
   "source": [
    "\n",
    "##### **Using data-set as input**\n"
   ]
  },
  {
   "cell_type": "code",
   "execution_count": 55,
   "metadata": {},
   "outputs": [
    {
     "data": {
      "text/plain": [
       "array([[     0.,  44908.,  59280., ..., 616853., 631971., 360750.],\n",
       "       [ 44908.,      0.,  14374., ..., 571945., 587063., 315844.],\n",
       "       [ 59280.,  14374.,      0., ..., 557573., 572691., 301514.],\n",
       "       ...,\n",
       "       [616853., 571945., 557573., ...,      0.,  15118., 256107.],\n",
       "       [631971., 587063., 572691., ...,  15118.,      0., 271223.],\n",
       "       [360750., 315844., 301514., ..., 256107., 271223.,      0.]])"
      ]
     },
     "execution_count": 55,
     "metadata": {},
     "output_type": "execute_result"
    }
   ],
   "source": [
    "Minkowski_dist_matrix(X=madrid_houses_df[quant_cols], q=1)"
   ]
  },
  {
   "cell_type": "code",
   "execution_count": 56,
   "metadata": {},
   "outputs": [
    {
     "data": {
      "text/plain": [
       "array([[     0.        ,  44900.00000004,  59247.00000256, ...,\n",
       "        595009.67289557, 610009.20431817, 339029.80435414],\n",
       "       [ 44900.00000004,      0.        ,  14347.00002239, ...,\n",
       "        550111.31475944, 565110.72356086, 294139.59212861],\n",
       "       [ 59247.00000256,  14347.00002239,      0.        , ...,\n",
       "        535764.92720523, 550764.28795236, 279796.75019685],\n",
       "       ...,\n",
       "       [595009.67289557, 550111.31475944, 535764.92720523, ...,\n",
       "             0.        ,  15000.00219489, 256000.00000556],\n",
       "       [610009.20431817, 565110.72356086, 550764.28795236, ...,\n",
       "         15000.00219489,      0.        , 271000.00004638],\n",
       "       [339029.80435414, 294139.59212861, 279796.75019685, ...,\n",
       "        256000.00000556, 271000.00004638,      0.        ]])"
      ]
     },
     "execution_count": 56,
     "metadata": {},
     "output_type": "execute_result"
    }
   ],
   "source": [
    "Minkowski_dist_matrix(X=madrid_houses_df[quant_cols], q=3)"
   ]
  },
  {
   "cell_type": "markdown",
   "metadata": {},
   "source": [
    "\n",
    "##### **Using couple of observations as input**  "
   ]
  },
  {
   "cell_type": "code",
   "execution_count": 49,
   "metadata": {},
   "outputs": [
    {
     "data": {
      "text/plain": [
       "59280.0"
      ]
     },
     "execution_count": 49,
     "metadata": {},
     "output_type": "execute_result"
    }
   ],
   "source": [
    "Minkowski_dist(x1, x3, q=1)"
   ]
  },
  {
   "cell_type": "code",
   "execution_count": 51,
   "metadata": {},
   "outputs": [
    {
     "data": {
      "text/plain": [
       "59247.00763751702"
      ]
     },
     "execution_count": 51,
     "metadata": {},
     "output_type": "execute_result"
    }
   ],
   "source": [
    "Minkowski_dist(x1, x3, q=2)"
   ]
  },
  {
   "cell_type": "code",
   "execution_count": 50,
   "metadata": {},
   "outputs": [
    {
     "data": {
      "text/plain": [
       "59247.00000256477"
      ]
     },
     "execution_count": 50,
     "metadata": {},
     "output_type": "execute_result"
    }
   ],
   "source": [
    "Minkowski_dist(x1, x3, q=3)"
   ]
  },
  {
   "cell_type": "markdown",
   "metadata": {},
   "source": [
    "#### **Canberra**  \n"
   ]
  },
  {
   "cell_type": "markdown",
   "metadata": {},
   "source": [
    "\n",
    "##### **Using data-set as input**\n"
   ]
  },
  {
   "cell_type": "code",
   "execution_count": 57,
   "metadata": {},
   "outputs": [
    {
     "data": {
      "text/plain": [
       "array([[0.        , 1.45371051, 1.78164852, ..., 2.90887959, 3.75277838,\n",
       "        2.05816865],\n",
       "       [1.45371051, 0.        , 1.06534137, ..., 2.58388957, 3.43784574,\n",
       "        2.07828812],\n",
       "       [1.78164852, 1.06534137, 0.        , ..., 2.28425543, 3.19853435,\n",
       "        1.62465496],\n",
       "       ...,\n",
       "       [2.90887959, 2.58388957, 2.28425543, ..., 0.        , 0.95662175,\n",
       "        0.98226744],\n",
       "       [3.75277838, 3.43784574, 3.19853435, ..., 0.95662175, 0.        ,\n",
       "        1.87664488],\n",
       "       [2.05816865, 2.07828812, 1.62465496, ..., 0.98226744, 1.87664488,\n",
       "        0.        ]])"
      ]
     },
     "execution_count": 57,
     "metadata": {},
     "output_type": "execute_result"
    }
   ],
   "source": [
    "Canberra_dist_matrix(X=madrid_houses_df[quant_cols])"
   ]
  },
  {
   "cell_type": "markdown",
   "metadata": {},
   "source": [
    "\n",
    "##### **Using couple of observations as input**  "
   ]
  },
  {
   "cell_type": "code",
   "execution_count": 58,
   "metadata": {},
   "outputs": [
    {
     "data": {
      "text/plain": [
       "1.7816485191041616"
      ]
     },
     "execution_count": 58,
     "metadata": {},
     "output_type": "execute_result"
    }
   ],
   "source": [
    "Canberra_dist(x1, x3)"
   ]
  },
  {
   "cell_type": "markdown",
   "metadata": {},
   "source": [
    "#### **Pearson**  \n"
   ]
  },
  {
   "cell_type": "markdown",
   "metadata": {},
   "source": [
    "\n",
    "##### **Using data-set as input**\n"
   ]
  },
  {
   "cell_type": "code",
   "execution_count": 59,
   "metadata": {},
   "outputs": [
    {
     "data": {
      "text/plain": [
       "array([[0.        , 0.66557807, 0.73750844, ..., 3.90977907, 5.11755758,\n",
       "        3.56262794],\n",
       "       [0.66557807, 0.        , 0.98231537, ..., 3.71998761, 4.96877334,\n",
       "        3.61675061],\n",
       "       [0.73750844, 0.98231537, 0.        , ..., 3.80227609, 4.9086971 ,\n",
       "        3.48434077],\n",
       "       ...,\n",
       "       [3.90977907, 3.71998761, 3.80227609, ..., 0.        , 2.98830223,\n",
       "        1.50055628],\n",
       "       [5.11755758, 4.96877334, 4.9086971 , ..., 2.98830223, 0.        ,\n",
       "        3.4727102 ],\n",
       "       [3.56262794, 3.61675061, 3.48434077, ..., 1.50055628, 3.4727102 ,\n",
       "        0.        ]])"
      ]
     },
     "execution_count": 59,
     "metadata": {},
     "output_type": "execute_result"
    }
   ],
   "source": [
    "Pearson_dist_matrix(X=madrid_houses_df[quant_cols])"
   ]
  },
  {
   "cell_type": "markdown",
   "metadata": {},
   "source": [
    "#### **Mahalanobis**  \n"
   ]
  },
  {
   "cell_type": "markdown",
   "metadata": {},
   "source": [
    "\n",
    "##### **Using data-set as input**\n"
   ]
  },
  {
   "cell_type": "code",
   "execution_count": 60,
   "metadata": {},
   "outputs": [
    {
     "data": {
      "text/plain": [
       "array([[0.        , 0.98311741, 1.35353199, ..., 3.77794957, 4.77402826,\n",
       "        3.668157  ],\n",
       "       [0.98311741, 0.        , 2.03440221, ..., 3.57947183, 4.79390382,\n",
       "        3.93719195],\n",
       "       [1.35353199, 2.03440221, 0.        , ..., 4.06604364, 5.0011229 ,\n",
       "        3.49628828],\n",
       "       ...,\n",
       "       [3.77794957, 3.57947183, 4.06604364, ..., 0.        , 3.29825661,\n",
       "        2.08532502],\n",
       "       [4.77402826, 4.79390382, 5.0011229 , ..., 3.29825661, 0.        ,\n",
       "        3.32955171],\n",
       "       [3.668157  , 3.93719195, 3.49628828, ..., 2.08532502, 3.32955171,\n",
       "        0.        ]])"
      ]
     },
     "execution_count": 60,
     "metadata": {},
     "output_type": "execute_result"
    }
   ],
   "source": [
    "Mahalanobis_dist_matrix(X=madrid_houses_df[quant_cols])"
   ]
  },
  {
   "cell_type": "markdown",
   "metadata": {},
   "source": [
    "\n",
    "##### **Using couple of observations as input**  "
   ]
  },
  {
   "cell_type": "code",
   "execution_count": 64,
   "metadata": {},
   "outputs": [],
   "source": [
    "S = np.cov(madrid_houses_df[quant_cols], rowvar=False)"
   ]
  },
  {
   "cell_type": "code",
   "execution_count": 65,
   "metadata": {},
   "outputs": [
    {
     "data": {
      "text/plain": [
       "46329153762.43836"
      ]
     },
     "execution_count": 65,
     "metadata": {},
     "output_type": "execute_result"
    }
   ],
   "source": [
    "Mahalanobis_dist(x1, x3, S=S)"
   ]
  },
  {
   "cell_type": "markdown",
   "metadata": {},
   "source": [
    "### **Binary data**"
   ]
  },
  {
   "cell_type": "markdown",
   "metadata": {},
   "source": [
    "#### **Sokal**  \n"
   ]
  },
  {
   "cell_type": "markdown",
   "metadata": {},
   "source": [
    "\n",
    "##### **Using data-set as input**\n"
   ]
  },
  {
   "cell_type": "code",
   "execution_count": null,
   "metadata": {},
   "outputs": [],
   "source": []
  },
  {
   "cell_type": "markdown",
   "metadata": {},
   "source": [
    "\n",
    "##### **Using couple of observations as input**  "
   ]
  },
  {
   "cell_type": "markdown",
   "metadata": {},
   "source": [
    "#### **Jaccard**  \n"
   ]
  },
  {
   "cell_type": "markdown",
   "metadata": {},
   "source": [
    "\n",
    "##### **Using data-set as input**\n"
   ]
  },
  {
   "cell_type": "markdown",
   "metadata": {},
   "source": [
    "\n",
    "##### **Using couple of observations as input**  "
   ]
  },
  {
   "cell_type": "markdown",
   "metadata": {},
   "source": [
    "### **Multiclass data**"
   ]
  },
  {
   "cell_type": "markdown",
   "metadata": {},
   "source": [
    "#### **Matching**  \n"
   ]
  },
  {
   "cell_type": "markdown",
   "metadata": {},
   "source": [
    "\n",
    "##### **Using data-set as input**\n"
   ]
  },
  {
   "cell_type": "markdown",
   "metadata": {},
   "source": [
    "\n",
    "##### **Using couple of observations as input**  "
   ]
  },
  {
   "cell_type": "markdown",
   "metadata": {},
   "source": [
    "## **New proposals**"
   ]
  },
  {
   "cell_type": "markdown",
   "metadata": {},
   "source": [
    "### **Quantitative data**"
   ]
  },
  {
   "cell_type": "markdown",
   "metadata": {},
   "source": [
    "#### **Robust Mahalanobis**  \n"
   ]
  },
  {
   "cell_type": "markdown",
   "metadata": {},
   "source": [
    "\n",
    "##### **Using data-set as input**\n"
   ]
  },
  {
   "cell_type": "markdown",
   "metadata": {},
   "source": [
    "\n",
    "##### **Using couple of observations as input**  "
   ]
  },
  {
   "cell_type": "markdown",
   "metadata": {},
   "source": [
    "### **Mixed data**"
   ]
  },
  {
   "cell_type": "markdown",
   "metadata": {},
   "source": [
    "#### **Generalized Gower**  \n",
    "\n",
    "##### **Using data-set as input**\n",
    "\n",
    "##### **Using couple of observations as input**  "
   ]
  },
  {
   "cell_type": "markdown",
   "metadata": {},
   "source": [
    "#### **Related Metric Scaling**  \n",
    "\n",
    "##### **Using data-set as input**\n",
    "\n",
    "##### **Using couple of observations as input**  "
   ]
  }
 ],
 "metadata": {
  "kernelspec": {
   "display_name": "Python 3",
   "language": "python",
   "name": "python3"
  },
  "language_info": {
   "codemirror_mode": {
    "name": "ipython",
    "version": 3
   },
   "file_extension": ".py",
   "mimetype": "text/x-python",
   "name": "python",
   "nbconvert_exporter": "python",
   "pygments_lexer": "ipython3",
   "version": "3.11.5"
  },
  "orig_nbformat": 4
 },
 "nbformat": 4,
 "nbformat_minor": 2
}
