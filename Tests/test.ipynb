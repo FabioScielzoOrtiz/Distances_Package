{
 "cells": [
  {
   "cell_type": "code",
   "execution_count": 2,
   "metadata": {},
   "outputs": [],
   "source": [
    "import pandas as pd"
   ]
  },
  {
   "cell_type": "code",
   "execution_count": 3,
   "metadata": {},
   "outputs": [],
   "source": [
    "Data = pd.read_csv('House_price.csv')"
   ]
  },
  {
   "cell_type": "code",
   "execution_count": 6,
   "metadata": {},
   "outputs": [
    {
     "name": "stdout",
     "output_type": "stream",
     "text": [
      "Collecting PyDistances==0.0.3\n",
      "  Downloading PyDistances-0.0.3-py3-none-any.whl (3.7 kB)\n",
      "Installing collected packages: PyDistances\n",
      "  Attempting uninstall: PyDistances\n",
      "    Found existing installation: PyDistances 0.0.2\n",
      "    Uninstalling PyDistances-0.0.2:\n",
      "      Successfully uninstalled PyDistances-0.0.2\n",
      "Successfully installed PyDistances-0.0.3\n",
      "Note: you may need to restart the kernel to use updated packages.\n"
     ]
    }
   ],
   "source": [
    "pip install PyDistances==0.0.3"
   ]
  },
  {
   "cell_type": "code",
   "execution_count": 4,
   "metadata": {},
   "outputs": [],
   "source": [
    "import PyDistances"
   ]
  },
  {
   "cell_type": "code",
   "execution_count": 5,
   "metadata": {},
   "outputs": [],
   "source": [
    "from PyDistances import Dist_Euclidea"
   ]
  },
  {
   "cell_type": "code",
   "execution_count": 7,
   "metadata": {},
   "outputs": [
    {
     "ename": "NameError",
     "evalue": "name 'np' is not defined",
     "output_type": "error",
     "traceback": [
      "\u001b[1;31m---------------------------------------------------------------------------\u001b[0m",
      "\u001b[1;31mNameError\u001b[0m                                 Traceback (most recent call last)",
      "\u001b[1;32mc:\\Users\\Usuario\\Documents\\fabio\\Fabio\\Python Packages\\Distances_Package\\Tests\\test.ipynb Cell 6\u001b[0m in \u001b[0;36m<cell line: 1>\u001b[1;34m()\u001b[0m\n\u001b[1;32m----> <a href='vscode-notebook-cell:/c%3A/Users/Usuario/Documents/fabio/Fabio/Python%20Packages/Distances_Package/Tests/test.ipynb#X12sZmlsZQ%3D%3D?line=0'>1</a>\u001b[0m Dist_Euclidea(Data\u001b[39m.\u001b[39;49miloc[\u001b[39m0\u001b[39;49m,:], Data\u001b[39m.\u001b[39;49miloc[\u001b[39m0\u001b[39;49m,:])\n",
      "File \u001b[1;32mc:\\Users\\Usuario\\AppData\\Local\\Programs\\Python\\Python310\\lib\\site-packages\\PyDistances\\distances.py:14\u001b[0m, in \u001b[0;36mDist_Euclidea\u001b[1;34m(x_i, x_r)\u001b[0m\n\u001b[0;32m      2\u001b[0m \u001b[39m\u001b[39m\u001b[39m\"\"\"\u001b[39;00m\n\u001b[0;32m      3\u001b[0m \u001b[39mCalcula la distancia Euclidea entre dos vectores de observaciones.\u001b[39;00m\n\u001b[0;32m      4\u001b[0m \n\u001b[1;32m   (...)\u001b[0m\n\u001b[0;32m     11\u001b[0m \u001b[39md: la distancia Euclidea entre x_i y x_r.\u001b[39;00m\n\u001b[0;32m     12\u001b[0m \u001b[39m\"\"\"\u001b[39;00m\n\u001b[0;32m     13\u001b[0m Dist_Euclidea \u001b[39m=\u001b[39m ( ( x_i \u001b[39m-\u001b[39m x_r )\u001b[39m*\u001b[39m\u001b[39m*\u001b[39m\u001b[39m2\u001b[39m )\u001b[39m.\u001b[39msum()\n\u001b[1;32m---> 14\u001b[0m Dist_Euclidea \u001b[39m=\u001b[39m np\u001b[39m.\u001b[39msqrt(Dist_Euclidea)\n\u001b[0;32m     15\u001b[0m \u001b[39mreturn\u001b[39;00m Dist_Euclidea\n",
      "\u001b[1;31mNameError\u001b[0m: name 'np' is not defined"
     ]
    }
   ],
   "source": [
    "Dist_Euclidea(Data.iloc[0,:], Data.iloc[0,:])"
   ]
  },
  {
   "cell_type": "code",
   "execution_count": 3,
   "metadata": {},
   "outputs": [
    {
     "data": {
      "text/plain": [
       "11"
      ]
     },
     "execution_count": 3,
     "metadata": {},
     "output_type": "execute_result"
    }
   ],
   "source": [
    "example.add_one(10)"
   ]
  },
  {
   "cell_type": "code",
   "execution_count": 4,
   "metadata": {},
   "outputs": [],
   "source": [
    "from example_package_FabioScielzoOrtiz import add_one"
   ]
  },
  {
   "cell_type": "code",
   "execution_count": 5,
   "metadata": {},
   "outputs": [
    {
     "data": {
      "text/plain": [
       "16"
      ]
     },
     "execution_count": 5,
     "metadata": {},
     "output_type": "execute_result"
    }
   ],
   "source": [
    "add_one(15)"
   ]
  }
 ],
 "metadata": {
  "kernelspec": {
   "display_name": "Python 3",
   "language": "python",
   "name": "python3"
  },
  "language_info": {
   "codemirror_mode": {
    "name": "ipython",
    "version": 3
   },
   "file_extension": ".py",
   "mimetype": "text/x-python",
   "name": "python",
   "nbconvert_exporter": "python",
   "pygments_lexer": "ipython3",
   "version": "3.10.0"
  },
  "orig_nbformat": 4
 },
 "nbformat": 4,
 "nbformat_minor": 2
}
