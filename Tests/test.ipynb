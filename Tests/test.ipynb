{
 "cells": [
  {
   "cell_type": "code",
   "execution_count": 1,
   "metadata": {},
   "outputs": [],
   "source": [
    "import pandas as pd\n",
    "import numpy as np\n",
    "import pkg_resources\n"
   ]
  },
  {
   "cell_type": "code",
   "execution_count": null,
   "metadata": {},
   "outputs": [],
   "source": [
    "pip install PyDistances"
   ]
  },
  {
   "cell_type": "code",
   "execution_count": null,
   "metadata": {},
   "outputs": [],
   "source": [
    "version = pkg_resources.get_distribution('PyDistances').version\n",
    "print(version)"
   ]
  },
  {
   "cell_type": "code",
   "execution_count": null,
   "metadata": {},
   "outputs": [],
   "source": [
    "import PyDistances"
   ]
  },
  {
   "cell_type": "code",
   "execution_count": null,
   "metadata": {},
   "outputs": [],
   "source": [
    "from PyDistances import Euclidean_Dist, Euclidean_Dist_Matrix, Minkowski_Dist, Minkowski_Dist_Matrix, Canberra_Dist, Canberra_Dist_Matrix, Pearson_Dist,  Pearson_Dist_Matrix, Mahalanobis_Dist, Mahalanobis_Dist_Matrix, a_b_c_d_Matrix, Sokal_Similarity, Sokal_Dist, Sokal_Dist_Matrix, Jaccard_Similarity, Jaccard_Dist, Jaccard_Dist_Matrix, alpha, Matching_Similarity, Matching_Dist, Matching_Dist_Matrix, Gower_Similarity_Matrix, Gower_Dist_Matrix, Robust_Mahalanobis_Dist, Robust_Mahalanobis_Dist_Matrix, GeneralizedGowerDistance"
   ]
  },
  {
   "cell_type": "markdown",
   "metadata": {},
   "source": []
  },
  {
   "cell_type": "code",
   "execution_count": 2,
   "metadata": {},
   "outputs": [],
   "source": [
    "Data = pd.read_csv('House_Price.csv')"
   ]
  },
  {
   "cell_type": "code",
   "execution_count": 3,
   "metadata": {},
   "outputs": [],
   "source": [
    "Data = Data.loc[0:150, ['latitude', 'longitude', 'price', 'size_in_m_2', 'balcony_recode', 'private_garden_recode', 'private_gym_recode', 'quality_recode', 'no_of_bathrooms', 'no_of_bedrooms']]"
   ]
  },
  {
   "cell_type": "code",
   "execution_count": 4,
   "metadata": {},
   "outputs": [
    {
     "data": {
      "text/html": [
       "<div>\n",
       "<style scoped>\n",
       "    .dataframe tbody tr th:only-of-type {\n",
       "        vertical-align: middle;\n",
       "    }\n",
       "\n",
       "    .dataframe tbody tr th {\n",
       "        vertical-align: top;\n",
       "    }\n",
       "\n",
       "    .dataframe thead th {\n",
       "        text-align: right;\n",
       "    }\n",
       "</style>\n",
       "<table border=\"1\" class=\"dataframe\">\n",
       "  <thead>\n",
       "    <tr style=\"text-align: right;\">\n",
       "      <th></th>\n",
       "      <th>latitude</th>\n",
       "      <th>longitude</th>\n",
       "      <th>price</th>\n",
       "      <th>size_in_m_2</th>\n",
       "      <th>balcony_recode</th>\n",
       "      <th>private_garden_recode</th>\n",
       "      <th>private_gym_recode</th>\n",
       "      <th>quality_recode</th>\n",
       "      <th>no_of_bathrooms</th>\n",
       "      <th>no_of_bedrooms</th>\n",
       "    </tr>\n",
       "  </thead>\n",
       "  <tbody>\n",
       "    <tr>\n",
       "      <th>0</th>\n",
       "      <td>25.113208</td>\n",
       "      <td>55.138932</td>\n",
       "      <td>2700000</td>\n",
       "      <td>100.242337</td>\n",
       "      <td>1.0</td>\n",
       "      <td>0.0</td>\n",
       "      <td>0.0</td>\n",
       "      <td>2.0</td>\n",
       "      <td>2</td>\n",
       "      <td>1</td>\n",
       "    </tr>\n",
       "    <tr>\n",
       "      <th>1</th>\n",
       "      <td>25.106809</td>\n",
       "      <td>55.151201</td>\n",
       "      <td>2850000</td>\n",
       "      <td>146.972546</td>\n",
       "      <td>1.0</td>\n",
       "      <td>0.0</td>\n",
       "      <td>0.0</td>\n",
       "      <td>2.0</td>\n",
       "      <td>2</td>\n",
       "      <td>2</td>\n",
       "    </tr>\n",
       "    <tr>\n",
       "      <th>2</th>\n",
       "      <td>25.063302</td>\n",
       "      <td>55.137728</td>\n",
       "      <td>1150000</td>\n",
       "      <td>181.253753</td>\n",
       "      <td>1.0</td>\n",
       "      <td>0.0</td>\n",
       "      <td>0.0</td>\n",
       "      <td>2.0</td>\n",
       "      <td>5</td>\n",
       "      <td>3</td>\n",
       "    </tr>\n",
       "    <tr>\n",
       "      <th>3</th>\n",
       "      <td>25.227295</td>\n",
       "      <td>55.341761</td>\n",
       "      <td>2850000</td>\n",
       "      <td>187.664060</td>\n",
       "      <td>1.0</td>\n",
       "      <td>0.0</td>\n",
       "      <td>0.0</td>\n",
       "      <td>1.0</td>\n",
       "      <td>3</td>\n",
       "      <td>2</td>\n",
       "    </tr>\n",
       "    <tr>\n",
       "      <th>4</th>\n",
       "      <td>25.114275</td>\n",
       "      <td>55.139764</td>\n",
       "      <td>1729200</td>\n",
       "      <td>47.101821</td>\n",
       "      <td>0.0</td>\n",
       "      <td>0.0</td>\n",
       "      <td>0.0</td>\n",
       "      <td>2.0</td>\n",
       "      <td>1</td>\n",
       "      <td>0</td>\n",
       "    </tr>\n",
       "    <tr>\n",
       "      <th>...</th>\n",
       "      <td>...</td>\n",
       "      <td>...</td>\n",
       "      <td>...</td>\n",
       "      <td>...</td>\n",
       "      <td>...</td>\n",
       "      <td>...</td>\n",
       "      <td>...</td>\n",
       "      <td>...</td>\n",
       "      <td>...</td>\n",
       "      <td>...</td>\n",
       "    </tr>\n",
       "    <tr>\n",
       "      <th>146</th>\n",
       "      <td>25.044572</td>\n",
       "      <td>55.218948</td>\n",
       "      <td>390000</td>\n",
       "      <td>78.874647</td>\n",
       "      <td>1.0</td>\n",
       "      <td>0.0</td>\n",
       "      <td>0.0</td>\n",
       "      <td>2.0</td>\n",
       "      <td>2</td>\n",
       "      <td>1</td>\n",
       "    </tr>\n",
       "    <tr>\n",
       "      <th>147</th>\n",
       "      <td>25.089719</td>\n",
       "      <td>55.170481</td>\n",
       "      <td>1650000</td>\n",
       "      <td>135.452574</td>\n",
       "      <td>1.0</td>\n",
       "      <td>0.0</td>\n",
       "      <td>0.0</td>\n",
       "      <td>2.0</td>\n",
       "      <td>2</td>\n",
       "      <td>2</td>\n",
       "    </tr>\n",
       "    <tr>\n",
       "      <th>148</th>\n",
       "      <td>25.072791</td>\n",
       "      <td>55.129829</td>\n",
       "      <td>1200000</td>\n",
       "      <td>117.243586</td>\n",
       "      <td>1.0</td>\n",
       "      <td>0.0</td>\n",
       "      <td>0.0</td>\n",
       "      <td>2.0</td>\n",
       "      <td>2</td>\n",
       "      <td>2</td>\n",
       "    </tr>\n",
       "    <tr>\n",
       "      <th>149</th>\n",
       "      <td>25.112725</td>\n",
       "      <td>55.109525</td>\n",
       "      <td>5400000</td>\n",
       "      <td>420.478978</td>\n",
       "      <td>1.0</td>\n",
       "      <td>0.0</td>\n",
       "      <td>0.0</td>\n",
       "      <td>2.0</td>\n",
       "      <td>5</td>\n",
       "      <td>4</td>\n",
       "    </tr>\n",
       "    <tr>\n",
       "      <th>150</th>\n",
       "      <td>25.073590</td>\n",
       "      <td>55.126352</td>\n",
       "      <td>14800000</td>\n",
       "      <td>466.187254</td>\n",
       "      <td>1.0</td>\n",
       "      <td>0.0</td>\n",
       "      <td>1.0</td>\n",
       "      <td>0.0</td>\n",
       "      <td>5</td>\n",
       "      <td>5</td>\n",
       "    </tr>\n",
       "  </tbody>\n",
       "</table>\n",
       "<p>151 rows × 10 columns</p>\n",
       "</div>"
      ],
      "text/plain": [
       "      latitude  longitude     price  size_in_m_2  balcony_recode  \\\n",
       "0    25.113208  55.138932   2700000   100.242337             1.0   \n",
       "1    25.106809  55.151201   2850000   146.972546             1.0   \n",
       "2    25.063302  55.137728   1150000   181.253753             1.0   \n",
       "3    25.227295  55.341761   2850000   187.664060             1.0   \n",
       "4    25.114275  55.139764   1729200    47.101821             0.0   \n",
       "..         ...        ...       ...          ...             ...   \n",
       "146  25.044572  55.218948    390000    78.874647             1.0   \n",
       "147  25.089719  55.170481   1650000   135.452574             1.0   \n",
       "148  25.072791  55.129829   1200000   117.243586             1.0   \n",
       "149  25.112725  55.109525   5400000   420.478978             1.0   \n",
       "150  25.073590  55.126352  14800000   466.187254             1.0   \n",
       "\n",
       "     private_garden_recode  private_gym_recode  quality_recode  \\\n",
       "0                      0.0                 0.0             2.0   \n",
       "1                      0.0                 0.0             2.0   \n",
       "2                      0.0                 0.0             2.0   \n",
       "3                      0.0                 0.0             1.0   \n",
       "4                      0.0                 0.0             2.0   \n",
       "..                     ...                 ...             ...   \n",
       "146                    0.0                 0.0             2.0   \n",
       "147                    0.0                 0.0             2.0   \n",
       "148                    0.0                 0.0             2.0   \n",
       "149                    0.0                 0.0             2.0   \n",
       "150                    0.0                 1.0             0.0   \n",
       "\n",
       "     no_of_bathrooms  no_of_bedrooms  \n",
       "0                  2               1  \n",
       "1                  2               2  \n",
       "2                  5               3  \n",
       "3                  3               2  \n",
       "4                  1               0  \n",
       "..               ...             ...  \n",
       "146                2               1  \n",
       "147                2               2  \n",
       "148                2               2  \n",
       "149                5               4  \n",
       "150                5               5  \n",
       "\n",
       "[151 rows x 10 columns]"
      ]
     },
     "execution_count": 4,
     "metadata": {},
     "output_type": "execute_result"
    }
   ],
   "source": [
    "Data # p1=4, p2=3, p3=3"
   ]
  },
  {
   "cell_type": "markdown",
   "metadata": {},
   "source": []
  },
  {
   "cell_type": "code",
   "execution_count": 9,
   "metadata": {},
   "outputs": [
    {
     "data": {
      "text/plain": [
       "0.0"
      ]
     },
     "execution_count": 9,
     "metadata": {},
     "output_type": "execute_result"
    }
   ],
   "source": [
    "Euclidean_Dist(Data.iloc[0,:], Data.iloc[0,:])"
   ]
  },
  {
   "cell_type": "code",
   "execution_count": 10,
   "metadata": {},
   "outputs": [
    {
     "data": {
      "text/plain": [
       "1550000.0021212427"
      ]
     },
     "execution_count": 10,
     "metadata": {},
     "output_type": "execute_result"
    }
   ],
   "source": [
    "Euclidean_Dist(Data.iloc[0,:], Data.iloc[2,:])"
   ]
  },
  {
   "cell_type": "code",
   "execution_count": 11,
   "metadata": {},
   "outputs": [
    {
     "data": {
      "text/plain": [
       "array([[       0.        ,   150000.00728238,  1550000.00212124, ...,\n",
       "         1500000.00009668,  2700000.01899435, 12100000.00553495],\n",
       "       [  150000.00728238,        0.        ,  1700000.00034859, ...,\n",
       "         1650000.00026782,  2550000.01467035, 11950000.00426448],\n",
       "       [ 1550000.00212124,  1700000.00034859,        0.        , ...,\n",
       "           50000.041073  ,  4250000.00673291, 13650000.00297422],\n",
       "       ...,\n",
       "       [ 1500000.00009668,  1650000.00026782,    50000.041073  , ...,\n",
       "               0.        ,  4200000.01094818, 13600000.00447738],\n",
       "       [ 2700000.01899435,  2550000.01467035,  4250000.00673291, ...,\n",
       "         4200000.01094818,        0.        ,  9400000.00011145],\n",
       "       [12100000.00553495, 11950000.00426448, 13650000.00297422, ...,\n",
       "        13600000.00447738,  9400000.00011145,        0.        ]])"
      ]
     },
     "execution_count": 11,
     "metadata": {},
     "output_type": "execute_result"
    }
   ],
   "source": [
    "Euclidean_Dist_Matrix(Data)"
   ]
  },
  {
   "cell_type": "markdown",
   "metadata": {},
   "source": []
  },
  {
   "cell_type": "code",
   "execution_count": 12,
   "metadata": {},
   "outputs": [
    {
     "data": {
      "text/plain": [
       "0.0"
      ]
     },
     "execution_count": 12,
     "metadata": {},
     "output_type": "execute_result"
    }
   ],
   "source": [
    "Minkowski_Dist(Data.iloc[0,:], Data.iloc[0,:], q=1)"
   ]
  },
  {
   "cell_type": "code",
   "execution_count": 13,
   "metadata": {},
   "outputs": [
    {
     "data": {
      "text/plain": [
       "1550086.062526"
      ]
     },
     "execution_count": 13,
     "metadata": {},
     "output_type": "execute_result"
    }
   ],
   "source": [
    "Minkowski_Dist(Data.iloc[0,:], Data.iloc[2,:], q=1)"
   ]
  },
  {
   "cell_type": "code",
   "execution_count": 14,
   "metadata": {},
   "outputs": [
    {
     "data": {
      "text/plain": [
       "array([[       0.      ,   150047.748877,  1550086.062526, ...,\n",
       "         1500018.050769,  2700326.266531, 12100375.997115],\n",
       "       [  150047.748877,        0.      ,  1700038.338187, ...,\n",
       "         1650029.78435 ,  2550278.554024, 11950328.272776],\n",
       "       [ 1550086.062526,  1700038.338187,        0.      , ...,\n",
       "           50068.027555,  4250240.302851, 13650289.955165],\n",
       "       ...,\n",
       "       [ 1500018.050769,  1650029.78435 ,    50068.027555, ...,\n",
       "               0.      ,  4200308.29563 , 13600357.947944],\n",
       "       [ 2700326.266531,  2550278.554024,  4250240.302851, ...,\n",
       "         4200308.29563 ,        0.      ,  9400049.764238],\n",
       "       [12100375.997115, 11950328.272776, 13650289.955165, ...,\n",
       "        13600357.947944,  9400049.764238,        0.      ]])"
      ]
     },
     "execution_count": 14,
     "metadata": {},
     "output_type": "execute_result"
    }
   ],
   "source": [
    "Minkowski_Dist_Matrix(Data, q=1)"
   ]
  },
  {
   "cell_type": "markdown",
   "metadata": {},
   "source": []
  },
  {
   "cell_type": "code",
   "execution_count": 15,
   "metadata": {},
   "outputs": [
    {
     "data": {
      "text/plain": [
       "0.0"
      ]
     },
     "execution_count": 15,
     "metadata": {},
     "output_type": "execute_result"
    }
   ],
   "source": [
    "Canberra_Dist(Data.iloc[0,:], Data.iloc[0,:])"
   ]
  },
  {
   "cell_type": "code",
   "execution_count": 16,
   "metadata": {},
   "outputs": [
    {
     "data": {
      "text/plain": [
       "1.6199631368734164"
      ]
     },
     "execution_count": 16,
     "metadata": {},
     "output_type": "execute_result"
    }
   ],
   "source": [
    "Canberra_Dist(Data.iloc[0,:], Data.iloc[2,:])"
   ]
  },
  {
   "cell_type": "code",
   "execution_count": 17,
   "metadata": {},
   "outputs": [
    {
     "data": {
      "text/plain": [
       "array([[0.        , 0.5496257 , 1.61996314, ..., 0.79700834, 1.97716773,\n",
       "        4.4336256 ],\n",
       "       [0.5496257 , 0.        , 1.15900459, ..., 0.52079671, 1.55348228,\n",
       "        4.05569007],\n",
       "       [1.61996314, 1.15900459, 0.        , ..., 0.86455026, 1.19051351,\n",
       "        3.54619958],\n",
       "       ...,\n",
       "       [0.79700834, 0.52079671, 0.86455026, ..., 0.        , 1.96317367,\n",
       "        4.3052795 ],\n",
       "       [1.97716773, 1.55348228, 1.19051351, ..., 1.96317367, 0.        ,\n",
       "        2.6289408 ],\n",
       "       [4.4336256 , 4.05569007, 3.54619958, ..., 4.3052795 , 2.6289408 ,\n",
       "        0.        ]])"
      ]
     },
     "execution_count": 17,
     "metadata": {},
     "output_type": "execute_result"
    }
   ],
   "source": [
    "Canberra_Dist_Matrix(Data)"
   ]
  },
  {
   "cell_type": "markdown",
   "metadata": {},
   "source": []
  },
  {
   "cell_type": "code",
   "execution_count": 18,
   "metadata": {},
   "outputs": [
    {
     "data": {
      "text/plain": [
       "0.0"
      ]
     },
     "execution_count": 18,
     "metadata": {},
     "output_type": "execute_result"
    }
   ],
   "source": [
    "Pearson_Dist(Data.iloc[0,:], Data.iloc[0,:], variance=Data.var())"
   ]
  },
  {
   "cell_type": "code",
   "execution_count": 19,
   "metadata": {},
   "outputs": [
    {
     "data": {
      "text/plain": [
       "3.8222980656608074"
      ]
     },
     "execution_count": 19,
     "metadata": {},
     "output_type": "execute_result"
    }
   ],
   "source": [
    "Pearson_Dist(Data.iloc[0,:], Data.iloc[2,:], variance=Data.var())"
   ]
  },
  {
   "cell_type": "code",
   "execution_count": 20,
   "metadata": {},
   "outputs": [
    {
     "data": {
      "text/plain": [
       "array([[ 0.        ,  1.26658427,  3.82229807, ...,  1.50258389,\n",
       "         6.07947674, 11.99245944],\n",
       "       [ 1.26658427,  0.        ,  3.17918255, ...,  1.09780711,\n",
       "         5.1406654 , 11.37163751],\n",
       "       [ 3.82229807,  3.17918255,  0.        , ...,  3.06121934,\n",
       "         3.95308055, 11.04298536],\n",
       "       ...,\n",
       "       [ 1.50258389,  1.09780711,  3.06121934, ...,  0.        ,\n",
       "         5.65391294, 11.9040415 ],\n",
       "       [ 6.07947674,  5.1406654 ,  3.95308055, ...,  5.65391294,\n",
       "         0.        ,  9.13962223],\n",
       "       [11.99245944, 11.37163751, 11.04298536, ..., 11.9040415 ,\n",
       "         9.13962223,  0.        ]])"
      ]
     },
     "execution_count": 20,
     "metadata": {},
     "output_type": "execute_result"
    }
   ],
   "source": [
    "Pearson_Dist_Matrix(Data)"
   ]
  },
  {
   "cell_type": "markdown",
   "metadata": {},
   "source": []
  },
  {
   "cell_type": "code",
   "execution_count": 23,
   "metadata": {},
   "outputs": [
    {
     "data": {
      "text/plain": [
       "4.017378957083443"
      ]
     },
     "execution_count": 23,
     "metadata": {},
     "output_type": "execute_result"
    }
   ],
   "source": [
    "Mahalanobis_Dist(Data.iloc[0,:], Data.iloc[2,:], S_inv=np.linalg.inv( np.cov(Data , rowvar=False) ))"
   ]
  },
  {
   "cell_type": "code",
   "execution_count": 24,
   "metadata": {},
   "outputs": [
    {
     "data": {
      "text/plain": [
       "array([[ 0.        ,  2.20973946,  4.01737896, ...,  2.67826799,\n",
       "         5.23251681,  9.42307625],\n",
       "       [ 2.20973946,  0.        ,  4.31689005, ...,  1.19767771,\n",
       "         4.86703402,  9.22661383],\n",
       "       [ 4.01737896,  4.31689005,  0.        , ...,  3.77523411,\n",
       "         4.67787355, 10.27884472],\n",
       "       ...,\n",
       "       [ 2.67826799,  1.19767771,  3.77523411, ...,  0.        ,\n",
       "         4.94907521,  9.54834209],\n",
       "       [ 5.23251681,  4.86703402,  4.67787355, ...,  4.94907521,\n",
       "         0.        , 10.19635899],\n",
       "       [ 9.42307625,  9.22661383, 10.27884472, ...,  9.54834209,\n",
       "        10.19635899,  0.        ]])"
      ]
     },
     "execution_count": 24,
     "metadata": {},
     "output_type": "execute_result"
    }
   ],
   "source": [
    "Mahalanobis_Dist_Matrix(Data)"
   ]
  }
 ],
 "metadata": {
  "kernelspec": {
   "display_name": "Python 3",
   "language": "python",
   "name": "python3"
  },
  "language_info": {
   "codemirror_mode": {
    "name": "ipython",
    "version": 3
   },
   "file_extension": ".py",
   "mimetype": "text/x-python",
   "name": "python",
   "nbconvert_exporter": "python",
   "pygments_lexer": "ipython3",
   "version": "3.10.0"
  },
  "orig_nbformat": 4
 },
 "nbformat": 4,
 "nbformat_minor": 2
}
