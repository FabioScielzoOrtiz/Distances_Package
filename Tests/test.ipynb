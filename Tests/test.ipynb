{
 "cells": [
  {
   "cell_type": "code",
   "execution_count": 63,
   "metadata": {},
   "outputs": [],
   "source": [
    "import pandas as pd\n",
    "import numpy as np\n",
    "import pkg_resources\n"
   ]
  },
  {
   "cell_type": "code",
   "execution_count": 64,
   "metadata": {},
   "outputs": [
    {
     "name": "stdout",
     "output_type": "stream",
     "text": [
      "Requirement already satisfied: PyDistances in c:\\users\\usuario\\appdata\\local\\programs\\python\\python310\\lib\\site-packages (0.0.9)\n",
      "Requirement already satisfied: pandas in c:\\users\\usuario\\appdata\\local\\programs\\python\\python310\\lib\\site-packages (from PyDistances) (1.4.4)\n",
      "Requirement already satisfied: numpy in c:\\users\\usuario\\appdata\\local\\programs\\python\\python310\\lib\\site-packages (from PyDistances) (1.23.2)\n",
      "Requirement already satisfied: python-dateutil>=2.8.1 in c:\\users\\usuario\\appdata\\local\\programs\\python\\python310\\lib\\site-packages (from pandas->PyDistances) (2.8.2)\n",
      "Requirement already satisfied: pytz>=2020.1 in c:\\users\\usuario\\appdata\\local\\programs\\python\\python310\\lib\\site-packages (from pandas->PyDistances) (2022.2.1)\n",
      "Requirement already satisfied: six>=1.5 in c:\\users\\usuario\\appdata\\local\\programs\\python\\python310\\lib\\site-packages (from python-dateutil>=2.8.1->pandas->PyDistances) (1.16.0)\n",
      "Note: you may need to restart the kernel to use updated packages.\n"
     ]
    }
   ],
   "source": [
    "pip install PyDistances"
   ]
  },
  {
   "cell_type": "code",
   "execution_count": 65,
   "metadata": {},
   "outputs": [
    {
     "name": "stdout",
     "output_type": "stream",
     "text": [
      "0.0.9\n"
     ]
    }
   ],
   "source": [
    "version = pkg_resources.get_distribution('PyDistances').version\n",
    "print(version)"
   ]
  },
  {
   "cell_type": "code",
   "execution_count": 66,
   "metadata": {},
   "outputs": [],
   "source": [
    "import PyDistances"
   ]
  },
  {
   "cell_type": "code",
   "execution_count": 67,
   "metadata": {},
   "outputs": [],
   "source": [
    "from PyDistances import Euclidean_Dist, Euclidean_Dist_Matrix, Minkowski_Dist, Minkowski_Dist_Matrix, Canberra_Dist, Canberra_Dist_Matrix, Pearson_Dist, Pearson_Dist_Matrix, Mahalanobis_Dist, Mahalanobis_Dist_Matrix, a_b_c_d_Matrix, Sokal_Similarity, Sokal_Dist, Sokal_Dist_Matrix, Jaccard_Similarity, Jaccard_Dist, Jaccard_Dist_Matrix, alpha, Matching_Similarity, Matching_Dist, Matching_Dist_Matrix, Gower_Similarity_Matrix, Gower_Dist_Matrix, Robust_Mahalanobis_Dist, Robust_Mahalanobis_Dist_Matrix, GeneralizedGowerDistance"
   ]
  },
  {
   "cell_type": "markdown",
   "metadata": {},
   "source": []
  },
  {
   "cell_type": "code",
   "execution_count": 68,
   "metadata": {},
   "outputs": [],
   "source": [
    "Data = pd.read_csv('House_Price.csv')"
   ]
  },
  {
   "cell_type": "code",
   "execution_count": 69,
   "metadata": {},
   "outputs": [],
   "source": [
    "Data = Data.loc[0:150, ['latitude', 'longitude', 'price', 'size_in_m_2', 'balcony_recode', 'private_garden_recode', 'private_gym_recode', 'quality_recode', 'no_of_bathrooms', 'no_of_bedrooms']]"
   ]
  },
  {
   "cell_type": "code",
   "execution_count": 70,
   "metadata": {},
   "outputs": [],
   "source": [
    "Data_quant = Data.loc[:,['latitude', 'longitude', 'price', 'size_in_m_2']]\n",
    "Data_binary = Data.loc[:,['balcony_recode', 'private_garden_recode', 'private_gym_recode']]\n",
    "Data_multiclass = Data.loc[:,['quality_recode', 'no_of_bathrooms', 'no_of_bedrooms']]"
   ]
  },
  {
   "cell_type": "code",
   "execution_count": 71,
   "metadata": {},
   "outputs": [
    {
     "data": {
      "text/html": [
       "<div>\n",
       "<style scoped>\n",
       "    .dataframe tbody tr th:only-of-type {\n",
       "        vertical-align: middle;\n",
       "    }\n",
       "\n",
       "    .dataframe tbody tr th {\n",
       "        vertical-align: top;\n",
       "    }\n",
       "\n",
       "    .dataframe thead th {\n",
       "        text-align: right;\n",
       "    }\n",
       "</style>\n",
       "<table border=\"1\" class=\"dataframe\">\n",
       "  <thead>\n",
       "    <tr style=\"text-align: right;\">\n",
       "      <th></th>\n",
       "      <th>latitude</th>\n",
       "      <th>longitude</th>\n",
       "      <th>price</th>\n",
       "      <th>size_in_m_2</th>\n",
       "      <th>balcony_recode</th>\n",
       "      <th>private_garden_recode</th>\n",
       "      <th>private_gym_recode</th>\n",
       "      <th>quality_recode</th>\n",
       "      <th>no_of_bathrooms</th>\n",
       "      <th>no_of_bedrooms</th>\n",
       "    </tr>\n",
       "  </thead>\n",
       "  <tbody>\n",
       "    <tr>\n",
       "      <th>0</th>\n",
       "      <td>25.113208</td>\n",
       "      <td>55.138932</td>\n",
       "      <td>2700000</td>\n",
       "      <td>100.242337</td>\n",
       "      <td>1.0</td>\n",
       "      <td>0.0</td>\n",
       "      <td>0.0</td>\n",
       "      <td>2.0</td>\n",
       "      <td>2</td>\n",
       "      <td>1</td>\n",
       "    </tr>\n",
       "    <tr>\n",
       "      <th>1</th>\n",
       "      <td>25.106809</td>\n",
       "      <td>55.151201</td>\n",
       "      <td>2850000</td>\n",
       "      <td>146.972546</td>\n",
       "      <td>1.0</td>\n",
       "      <td>0.0</td>\n",
       "      <td>0.0</td>\n",
       "      <td>2.0</td>\n",
       "      <td>2</td>\n",
       "      <td>2</td>\n",
       "    </tr>\n",
       "    <tr>\n",
       "      <th>2</th>\n",
       "      <td>25.063302</td>\n",
       "      <td>55.137728</td>\n",
       "      <td>1150000</td>\n",
       "      <td>181.253753</td>\n",
       "      <td>1.0</td>\n",
       "      <td>0.0</td>\n",
       "      <td>0.0</td>\n",
       "      <td>2.0</td>\n",
       "      <td>5</td>\n",
       "      <td>3</td>\n",
       "    </tr>\n",
       "    <tr>\n",
       "      <th>3</th>\n",
       "      <td>25.227295</td>\n",
       "      <td>55.341761</td>\n",
       "      <td>2850000</td>\n",
       "      <td>187.664060</td>\n",
       "      <td>1.0</td>\n",
       "      <td>0.0</td>\n",
       "      <td>0.0</td>\n",
       "      <td>1.0</td>\n",
       "      <td>3</td>\n",
       "      <td>2</td>\n",
       "    </tr>\n",
       "    <tr>\n",
       "      <th>4</th>\n",
       "      <td>25.114275</td>\n",
       "      <td>55.139764</td>\n",
       "      <td>1729200</td>\n",
       "      <td>47.101821</td>\n",
       "      <td>0.0</td>\n",
       "      <td>0.0</td>\n",
       "      <td>0.0</td>\n",
       "      <td>2.0</td>\n",
       "      <td>1</td>\n",
       "      <td>0</td>\n",
       "    </tr>\n",
       "    <tr>\n",
       "      <th>...</th>\n",
       "      <td>...</td>\n",
       "      <td>...</td>\n",
       "      <td>...</td>\n",
       "      <td>...</td>\n",
       "      <td>...</td>\n",
       "      <td>...</td>\n",
       "      <td>...</td>\n",
       "      <td>...</td>\n",
       "      <td>...</td>\n",
       "      <td>...</td>\n",
       "    </tr>\n",
       "    <tr>\n",
       "      <th>146</th>\n",
       "      <td>25.044572</td>\n",
       "      <td>55.218948</td>\n",
       "      <td>390000</td>\n",
       "      <td>78.874647</td>\n",
       "      <td>1.0</td>\n",
       "      <td>0.0</td>\n",
       "      <td>0.0</td>\n",
       "      <td>2.0</td>\n",
       "      <td>2</td>\n",
       "      <td>1</td>\n",
       "    </tr>\n",
       "    <tr>\n",
       "      <th>147</th>\n",
       "      <td>25.089719</td>\n",
       "      <td>55.170481</td>\n",
       "      <td>1650000</td>\n",
       "      <td>135.452574</td>\n",
       "      <td>1.0</td>\n",
       "      <td>0.0</td>\n",
       "      <td>0.0</td>\n",
       "      <td>2.0</td>\n",
       "      <td>2</td>\n",
       "      <td>2</td>\n",
       "    </tr>\n",
       "    <tr>\n",
       "      <th>148</th>\n",
       "      <td>25.072791</td>\n",
       "      <td>55.129829</td>\n",
       "      <td>1200000</td>\n",
       "      <td>117.243586</td>\n",
       "      <td>1.0</td>\n",
       "      <td>0.0</td>\n",
       "      <td>0.0</td>\n",
       "      <td>2.0</td>\n",
       "      <td>2</td>\n",
       "      <td>2</td>\n",
       "    </tr>\n",
       "    <tr>\n",
       "      <th>149</th>\n",
       "      <td>25.112725</td>\n",
       "      <td>55.109525</td>\n",
       "      <td>5400000</td>\n",
       "      <td>420.478978</td>\n",
       "      <td>1.0</td>\n",
       "      <td>0.0</td>\n",
       "      <td>0.0</td>\n",
       "      <td>2.0</td>\n",
       "      <td>5</td>\n",
       "      <td>4</td>\n",
       "    </tr>\n",
       "    <tr>\n",
       "      <th>150</th>\n",
       "      <td>25.073590</td>\n",
       "      <td>55.126352</td>\n",
       "      <td>14800000</td>\n",
       "      <td>466.187254</td>\n",
       "      <td>1.0</td>\n",
       "      <td>0.0</td>\n",
       "      <td>1.0</td>\n",
       "      <td>0.0</td>\n",
       "      <td>5</td>\n",
       "      <td>5</td>\n",
       "    </tr>\n",
       "  </tbody>\n",
       "</table>\n",
       "<p>151 rows × 10 columns</p>\n",
       "</div>"
      ],
      "text/plain": [
       "      latitude  longitude     price  size_in_m_2  balcony_recode  \\\n",
       "0    25.113208  55.138932   2700000   100.242337             1.0   \n",
       "1    25.106809  55.151201   2850000   146.972546             1.0   \n",
       "2    25.063302  55.137728   1150000   181.253753             1.0   \n",
       "3    25.227295  55.341761   2850000   187.664060             1.0   \n",
       "4    25.114275  55.139764   1729200    47.101821             0.0   \n",
       "..         ...        ...       ...          ...             ...   \n",
       "146  25.044572  55.218948    390000    78.874647             1.0   \n",
       "147  25.089719  55.170481   1650000   135.452574             1.0   \n",
       "148  25.072791  55.129829   1200000   117.243586             1.0   \n",
       "149  25.112725  55.109525   5400000   420.478978             1.0   \n",
       "150  25.073590  55.126352  14800000   466.187254             1.0   \n",
       "\n",
       "     private_garden_recode  private_gym_recode  quality_recode  \\\n",
       "0                      0.0                 0.0             2.0   \n",
       "1                      0.0                 0.0             2.0   \n",
       "2                      0.0                 0.0             2.0   \n",
       "3                      0.0                 0.0             1.0   \n",
       "4                      0.0                 0.0             2.0   \n",
       "..                     ...                 ...             ...   \n",
       "146                    0.0                 0.0             2.0   \n",
       "147                    0.0                 0.0             2.0   \n",
       "148                    0.0                 0.0             2.0   \n",
       "149                    0.0                 0.0             2.0   \n",
       "150                    0.0                 1.0             0.0   \n",
       "\n",
       "     no_of_bathrooms  no_of_bedrooms  \n",
       "0                  2               1  \n",
       "1                  2               2  \n",
       "2                  5               3  \n",
       "3                  3               2  \n",
       "4                  1               0  \n",
       "..               ...             ...  \n",
       "146                2               1  \n",
       "147                2               2  \n",
       "148                2               2  \n",
       "149                5               4  \n",
       "150                5               5  \n",
       "\n",
       "[151 rows x 10 columns]"
      ]
     },
     "execution_count": 71,
     "metadata": {},
     "output_type": "execute_result"
    }
   ],
   "source": [
    "Data # p1=4, p2=3, p3=3"
   ]
  },
  {
   "cell_type": "markdown",
   "metadata": {},
   "source": []
  },
  {
   "cell_type": "code",
   "execution_count": 72,
   "metadata": {},
   "outputs": [
    {
     "data": {
      "text/plain": [
       "0.0"
      ]
     },
     "execution_count": 72,
     "metadata": {},
     "output_type": "execute_result"
    }
   ],
   "source": [
    "Euclidean_Dist(Data_quant.iloc[0,:], Data_quant.iloc[0,:])"
   ]
  },
  {
   "cell_type": "code",
   "execution_count": 73,
   "metadata": {},
   "outputs": [
    {
     "data": {
      "text/plain": [
       "1550000.002117049"
      ]
     },
     "execution_count": 73,
     "metadata": {},
     "output_type": "execute_result"
    }
   ],
   "source": [
    "Euclidean_Dist(Data_quant.iloc[0,:], Data_quant.iloc[2,:])"
   ]
  },
  {
   "cell_type": "code",
   "execution_count": 74,
   "metadata": {},
   "outputs": [
    {
     "data": {
      "text/plain": [
       "array([[       0.        ,   150000.00727904,  1550000.00211705, ...,\n",
       "         1500000.00009635,  2700000.01899102, 12100000.00553371],\n",
       "       [  150000.00727904,        0.        ,  1700000.00034565, ...,\n",
       "         1650000.00026782,  2550000.0146678 , 11950000.00426352],\n",
       "       [ 1550000.00211705,  1700000.00034565,        0.        , ...,\n",
       "           50000.040973  ,  4250000.00673279, 13650000.00297389],\n",
       "       ...,\n",
       "       [ 1500000.00009635,  1650000.00026782,    50000.040973  , ...,\n",
       "               0.        ,  4200000.01094663, 13600000.00447653],\n",
       "       [ 2700000.01899102,  2550000.0146678 ,  4250000.00673279, ...,\n",
       "         4200000.01094663,        0.        ,  9400000.00011113],\n",
       "       [12100000.00553371, 11950000.00426352, 13650000.00297389, ...,\n",
       "        13600000.00447653,  9400000.00011113,        0.        ]])"
      ]
     },
     "execution_count": 74,
     "metadata": {},
     "output_type": "execute_result"
    }
   ],
   "source": [
    "Euclidean_Dist_Matrix(Data_quant)"
   ]
  },
  {
   "cell_type": "markdown",
   "metadata": {},
   "source": []
  },
  {
   "cell_type": "code",
   "execution_count": 75,
   "metadata": {},
   "outputs": [
    {
     "data": {
      "text/plain": [
       "0.0"
      ]
     },
     "execution_count": 75,
     "metadata": {},
     "output_type": "execute_result"
    }
   ],
   "source": [
    "Minkowski_Dist(Data_quant.iloc[0,:], Data_quant.iloc[0,:], q=1)"
   ]
  },
  {
   "cell_type": "code",
   "execution_count": 76,
   "metadata": {},
   "outputs": [
    {
     "data": {
      "text/plain": [
       "1550081.062526"
      ]
     },
     "execution_count": 76,
     "metadata": {},
     "output_type": "execute_result"
    }
   ],
   "source": [
    "Minkowski_Dist(Data_quant.iloc[0,:], Data_quant.iloc[2,:], q=1)"
   ]
  },
  {
   "cell_type": "code",
   "execution_count": 77,
   "metadata": {},
   "outputs": [
    {
     "data": {
      "text/plain": [
       "array([[       0.      ,   150046.748877,  1550081.062526, ...,\n",
       "         1500017.050769,  2700320.266531, 12100365.997115],\n",
       "       [  150046.748877,        0.      ,  1700034.338187, ...,\n",
       "         1650029.78435 ,  2550273.554024, 11950319.272776],\n",
       "       [ 1550081.062526,  1700034.338187,        0.      , ...,\n",
       "           50064.027555,  4250239.302851, 13650284.955165],\n",
       "       ...,\n",
       "       [ 1500017.050769,  1650029.78435 ,    50064.027555, ...,\n",
       "               0.      ,  4200303.29563 , 13600348.947944],\n",
       "       [ 2700320.266531,  2550273.554024,  4250239.302851, ...,\n",
       "         4200303.29563 ,        0.      ,  9400045.764238],\n",
       "       [12100365.997115, 11950319.272776, 13650284.955165, ...,\n",
       "        13600348.947944,  9400045.764238,        0.      ]])"
      ]
     },
     "execution_count": 77,
     "metadata": {},
     "output_type": "execute_result"
    }
   ],
   "source": [
    "Minkowski_Dist_Matrix(Data_quant, q=1)"
   ]
  },
  {
   "cell_type": "markdown",
   "metadata": {},
   "source": []
  },
  {
   "cell_type": "code",
   "execution_count": 78,
   "metadata": {},
   "outputs": [
    {
     "data": {
      "text/plain": [
       "0.0"
      ]
     },
     "execution_count": 78,
     "metadata": {},
     "output_type": "execute_result"
    }
   ],
   "source": [
    "Canberra_Dist(Data_quant.iloc[0,:], Data_quant.iloc[0,:])"
   ]
  },
  {
   "cell_type": "code",
   "execution_count": 79,
   "metadata": {},
   "outputs": [
    {
     "data": {
      "text/plain": [
       "0.6913917083019879"
      ]
     },
     "execution_count": 79,
     "metadata": {},
     "output_type": "execute_result"
    }
   ],
   "source": [
    "Canberra_Dist(Data_quant.iloc[0,:], Data_quant.iloc[2,:])"
   ]
  },
  {
   "cell_type": "code",
   "execution_count": 80,
   "metadata": {},
   "outputs": [
    {
     "data": {
      "text/plain": [
       "array([[0.        , 0.21629237, 0.69139171, ..., 0.463675  , 0.9485963 ,\n",
       "        1.33838751],\n",
       "       [0.21629237, 0.        , 0.53043317, ..., 0.52079671, 0.79157752,\n",
       "        1.19854721],\n",
       "       [0.69139171, 0.53043317, 0.        , ..., 0.23597883, 1.04765637,\n",
       "        1.29619958],\n",
       "       ...,\n",
       "       [0.463675  , 0.52079671, 0.23597883, ..., 0.        , 1.20126891,\n",
       "        1.44813664],\n",
       "       [0.9485963 , 0.79157752, 1.04765637, ..., 1.20126891, 0.        ,\n",
       "        0.51782969],\n",
       "       [1.33838751, 1.19854721, 1.29619958, ..., 1.44813664, 0.51782969,\n",
       "        0.        ]])"
      ]
     },
     "execution_count": 80,
     "metadata": {},
     "output_type": "execute_result"
    }
   ],
   "source": [
    "Canberra_Dist_Matrix(Data_quant)"
   ]
  },
  {
   "cell_type": "markdown",
   "metadata": {},
   "source": []
  },
  {
   "cell_type": "code",
   "execution_count": 81,
   "metadata": {},
   "outputs": [
    {
     "data": {
      "text/plain": [
       "0.0"
      ]
     },
     "execution_count": 81,
     "metadata": {},
     "output_type": "execute_result"
    }
   ],
   "source": [
    "Pearson_Dist(Data_quant.iloc[0,:], Data_quant.iloc[0,:], variance=Data.var())"
   ]
  },
  {
   "cell_type": "code",
   "execution_count": 82,
   "metadata": {},
   "outputs": [
    {
     "data": {
      "text/plain": [
       "1.5393297661160206"
      ]
     },
     "execution_count": 82,
     "metadata": {},
     "output_type": "execute_result"
    }
   ],
   "source": [
    "Pearson_Dist(Data_quant.iloc[0,:], Data_quant.iloc[2,:], variance=Data.var())"
   ]
  },
  {
   "cell_type": "code",
   "execution_count": 83,
   "metadata": {},
   "outputs": [
    {
     "data": {
      "text/plain": [
       "array([[0.        , 0.63961801, 1.53932977, ..., 1.03084131, 4.32943281,\n",
       "        7.47171915],\n",
       "       [0.63961801, 0.        , 1.20505141, ..., 1.09780711, 3.76643257,\n",
       "        7.04893716],\n",
       "       [1.53932977, 1.20505141, 0.        , ..., 0.84617436, 3.79891055,\n",
       "        7.4670243 ],\n",
       "       ...,\n",
       "       [1.03084131, 1.09780711, 0.84617436, ..., 0.        , 4.44143053,\n",
       "        7.87905955],\n",
       "       [4.32943281, 3.76643257, 3.79891055, ..., 4.44143053, 0.        ,\n",
       "        4.57460318],\n",
       "       [7.47171915, 7.04893716, 7.4670243 , ..., 7.87905955, 4.57460318,\n",
       "        0.        ]])"
      ]
     },
     "execution_count": 83,
     "metadata": {},
     "output_type": "execute_result"
    }
   ],
   "source": [
    "Pearson_Dist_Matrix(Data_quant)"
   ]
  },
  {
   "cell_type": "markdown",
   "metadata": {},
   "source": []
  },
  {
   "cell_type": "code",
   "execution_count": 84,
   "metadata": {},
   "outputs": [
    {
     "data": {
      "text/plain": [
       "2.7671855371187757"
      ]
     },
     "execution_count": 84,
     "metadata": {},
     "output_type": "execute_result"
    }
   ],
   "source": [
    "Mahalanobis_Dist(Data_quant.iloc[0,:], Data_quant.iloc[2,:], S_inv=np.linalg.inv( np.cov(Data_quant , rowvar=False) ))"
   ]
  },
  {
   "cell_type": "code",
   "execution_count": 85,
   "metadata": {},
   "outputs": [
    {
     "data": {
      "text/plain": [
       "array([[0.        , 0.92801614, 2.76718554, ..., 1.52541554, 5.21105193,\n",
       "        6.45997793],\n",
       "       [0.92801614, 0.        , 1.96135599, ..., 0.98693199, 4.43479282,\n",
       "        6.2920865 ],\n",
       "       [2.76718554, 1.96135599, 0.        , ..., 1.3592188 , 3.4307313 ,\n",
       "        7.27986558],\n",
       "       ...,\n",
       "       [1.52541554, 0.98693199, 1.3592188 , ..., 0.        , 4.41360406,\n",
       "        7.01503103],\n",
       "       [5.21105193, 4.43479282, 3.4307313 , ..., 4.41360406, 0.        ,\n",
       "        7.4691448 ],\n",
       "       [6.45997793, 6.2920865 , 7.27986558, ..., 7.01503103, 7.4691448 ,\n",
       "        0.        ]])"
      ]
     },
     "execution_count": 85,
     "metadata": {},
     "output_type": "execute_result"
    }
   ],
   "source": [
    "Mahalanobis_Dist_Matrix(Data_quant)"
   ]
  },
  {
   "cell_type": "markdown",
   "metadata": {},
   "source": []
  },
  {
   "cell_type": "code",
   "execution_count": 86,
   "metadata": {},
   "outputs": [],
   "source": [
    "a,b,c,d,p = a_b_c_d_Matrix(Data_binary)"
   ]
  },
  {
   "cell_type": "code",
   "execution_count": 87,
   "metadata": {},
   "outputs": [
    {
     "data": {
      "text/plain": [
       "1.0"
      ]
     },
     "execution_count": 87,
     "metadata": {},
     "output_type": "execute_result"
    }
   ],
   "source": [
    "Sokal_Similarity(i=0, r=2, a=a, d=d, p=p)"
   ]
  },
  {
   "cell_type": "code",
   "execution_count": 88,
   "metadata": {},
   "outputs": [
    {
     "data": {
      "text/plain": [
       "0.0"
      ]
     },
     "execution_count": 88,
     "metadata": {},
     "output_type": "execute_result"
    }
   ],
   "source": [
    "Sokal_Dist(i=0, r=2, a=a, d=d, p=p)"
   ]
  },
  {
   "cell_type": "code",
   "execution_count": 89,
   "metadata": {},
   "outputs": [
    {
     "data": {
      "text/plain": [
       "array([[0.        , 0.        , 0.        , ..., 0.        , 0.        ,\n",
       "        0.81649658],\n",
       "       [0.        , 0.        , 0.        , ..., 0.        , 0.        ,\n",
       "        0.81649658],\n",
       "       [0.        , 0.        , 0.        , ..., 0.        , 0.        ,\n",
       "        0.81649658],\n",
       "       ...,\n",
       "       [0.        , 0.        , 0.        , ..., 0.        , 0.        ,\n",
       "        0.81649658],\n",
       "       [0.        , 0.        , 0.        , ..., 0.        , 0.        ,\n",
       "        0.81649658],\n",
       "       [0.81649658, 0.81649658, 0.81649658, ..., 0.81649658, 0.81649658,\n",
       "        0.        ]])"
      ]
     },
     "execution_count": 89,
     "metadata": {},
     "output_type": "execute_result"
    }
   ],
   "source": [
    "Sokal_Dist_Matrix(Data_binary)"
   ]
  },
  {
   "cell_type": "code",
   "execution_count": 98,
   "metadata": {},
   "outputs": [
    {
     "data": {
      "text/plain": [
       "1.0"
      ]
     },
     "execution_count": 98,
     "metadata": {},
     "output_type": "execute_result"
    }
   ],
   "source": [
    "Jaccard_Similarity(i=0, r=0, a=a, d=d, p=p)"
   ]
  },
  {
   "cell_type": "code",
   "execution_count": 102,
   "metadata": {},
   "outputs": [
    {
     "data": {
      "text/plain": [
       "1.0"
      ]
     },
     "execution_count": 102,
     "metadata": {},
     "output_type": "execute_result"
    }
   ],
   "source": [
    "Jaccard_Similarity(i=0, r=2, a=a, d=d, p=p)"
   ]
  },
  {
   "cell_type": "code",
   "execution_count": 96,
   "metadata": {},
   "outputs": [
    {
     "data": {
      "text/plain": [
       "0.0"
      ]
     },
     "execution_count": 96,
     "metadata": {},
     "output_type": "execute_result"
    }
   ],
   "source": [
    "Jaccard_Dist(i=0, r=2, a=a, d=d, p=p)"
   ]
  },
  {
   "cell_type": "code",
   "execution_count": 101,
   "metadata": {},
   "outputs": [
    {
     "data": {
      "text/plain": [
       "array([[0., 0., 0., ..., 0., 0., 1.],\n",
       "       [0., 0., 0., ..., 0., 0., 1.],\n",
       "       [0., 0., 0., ..., 0., 0., 1.],\n",
       "       ...,\n",
       "       [0., 0., 0., ..., 0., 0., 1.],\n",
       "       [0., 0., 0., ..., 0., 0., 1.],\n",
       "       [1., 1., 1., ..., 1., 1., 0.]])"
      ]
     },
     "execution_count": 101,
     "metadata": {},
     "output_type": "execute_result"
    }
   ],
   "source": [
    "Jaccard_Dist_Matrix(Data_binary)"
   ]
  },
  {
   "cell_type": "code",
   "execution_count": 104,
   "metadata": {},
   "outputs": [
    {
     "data": {
      "text/plain": [
       "0.3333333333333333"
      ]
     },
     "execution_count": 104,
     "metadata": {},
     "output_type": "execute_result"
    }
   ],
   "source": [
    "Matching_Similarity(x_i=Data_multiclass.iloc[0,:], x_r=Data_multiclass.iloc[2,:], Data=Data_multiclass)"
   ]
  },
  {
   "cell_type": "code",
   "execution_count": 105,
   "metadata": {},
   "outputs": [
    {
     "data": {
      "text/plain": [
       "1.1547005383792517"
      ]
     },
     "execution_count": 105,
     "metadata": {},
     "output_type": "execute_result"
    }
   ],
   "source": [
    "Matching_Dist(x_i=Data_multiclass.iloc[0,:], x_r=Data_multiclass.iloc[2,:], Data=Data_multiclass)"
   ]
  },
  {
   "cell_type": "code",
   "execution_count": 106,
   "metadata": {},
   "outputs": [
    {
     "data": {
      "text/plain": [
       "array([[0.        , 0.81649658, 1.15470054, ..., 0.81649658, 1.15470054,\n",
       "        1.41421356],\n",
       "       [0.81649658, 0.        , 1.15470054, ..., 0.        , 1.15470054,\n",
       "        1.41421356],\n",
       "       [1.15470054, 1.15470054, 0.        , ..., 1.15470054, 0.81649658,\n",
       "        1.15470054],\n",
       "       ...,\n",
       "       [0.81649658, 0.        , 1.15470054, ..., 0.        , 1.15470054,\n",
       "        1.41421356],\n",
       "       [1.15470054, 1.15470054, 0.81649658, ..., 1.15470054, 0.        ,\n",
       "        1.15470054],\n",
       "       [1.41421356, 1.41421356, 1.15470054, ..., 1.41421356, 1.15470054,\n",
       "        0.        ]])"
      ]
     },
     "execution_count": 106,
     "metadata": {},
     "output_type": "execute_result"
    }
   ],
   "source": [
    "Matching_Dist_Matrix(Data_multiclass)"
   ]
  },
  {
   "cell_type": "markdown",
   "metadata": {},
   "source": []
  },
  {
   "cell_type": "code",
   "execution_count": 108,
   "metadata": {},
   "outputs": [
    {
     "data": {
      "text/plain": [
       "array([[1.        , 0.85175283, 0.68485131, ..., 0.83008431, 0.62482353,\n",
       "        0.34709882],\n",
       "       [0.85175283, 1.        , 0.69489168, ..., 0.94863663, 0.63064768,\n",
       "        0.35833279],\n",
       "       [0.68485131, 0.69489168, 1.        , ..., 0.72293677, 0.73120218,\n",
       "        0.48172501],\n",
       "       ...,\n",
       "       [0.83008431, 0.94863663, 0.72293677, ..., 1.        , 0.59776459,\n",
       "        0.36311382],\n",
       "       [0.62482353, 0.63064768, 0.73120218, ..., 0.59776459, 1.        ,\n",
       "        0.55654437],\n",
       "       [0.34709882, 0.35833279, 0.48172501, ..., 0.36311382, 0.55654437,\n",
       "        1.        ]])"
      ]
     },
     "execution_count": 108,
     "metadata": {},
     "output_type": "execute_result"
    }
   ],
   "source": [
    "Gower_Similarity_Matrix(Data, p1=4, p2=3, p3=3)"
   ]
  },
  {
   "cell_type": "code",
   "execution_count": 110,
   "metadata": {},
   "outputs": [
    {
     "data": {
      "text/plain": [
       "array([[0.        , 0.38502879, 0.56138105, ..., 0.41220831, 0.61251651,\n",
       "        0.808023  ],\n",
       "       [0.38502879, 0.        , 0.55236611, ..., 0.22663488, 0.60774363,\n",
       "        0.80104133],\n",
       "       [0.56138105, 0.55236611, 0.        , ..., 0.52636796, 0.51845716,\n",
       "        0.71991318],\n",
       "       ...,\n",
       "       [0.41220831, 0.22663488, 0.52636796, ..., 0.        , 0.63422032,\n",
       "        0.79805149],\n",
       "       [0.61251651, 0.60774363, 0.51845716, ..., 0.63422032, 0.        ,\n",
       "        0.66592464],\n",
       "       [0.808023  , 0.80104133, 0.71991318, ..., 0.79805149, 0.66592464,\n",
       "        0.        ]])"
      ]
     },
     "execution_count": 110,
     "metadata": {},
     "output_type": "execute_result"
    }
   ],
   "source": [
    "Gower_Dist_Matrix(Data, p1=4, p2=3, p3=3)"
   ]
  },
  {
   "cell_type": "markdown",
   "metadata": {},
   "source": []
  },
  {
   "cell_type": "code",
   "execution_count": 111,
   "metadata": {},
   "outputs": [
    {
     "data": {
      "text/plain": [
       "2.1448247626892223"
      ]
     },
     "execution_count": 111,
     "metadata": {},
     "output_type": "execute_result"
    }
   ],
   "source": [
    "Robust_Mahalanobis_Dist(x_i=Data_quant.iloc[0,:], x_r=Data_quant.iloc[2,:], Data=Data_quant, Method='MAD', epsilon=0.05, n_iters=20)"
   ]
  },
  {
   "cell_type": "code",
   "execution_count": 113,
   "metadata": {},
   "outputs": [
    {
     "data": {
      "text/plain": [
       "2.7434709885399884"
      ]
     },
     "execution_count": 113,
     "metadata": {},
     "output_type": "execute_result"
    }
   ],
   "source": [
    "Robust_Mahalanobis_Dist(x_i=Data_quant.iloc[0,:], x_r=Data_quant.iloc[2,:], Data=Data_quant, Method='trimmed', alpha=0.1, epsilon=0.05, n_iters=20)"
   ]
  },
  {
   "cell_type": "code",
   "execution_count": 114,
   "metadata": {},
   "outputs": [
    {
     "data": {
      "text/plain": [
       "2.8446274140577943"
      ]
     },
     "execution_count": 114,
     "metadata": {},
     "output_type": "execute_result"
    }
   ],
   "source": [
    "Robust_Mahalanobis_Dist(x_i=Data_quant.iloc[0,:], x_r=Data_quant.iloc[2,:], Data=Data_quant, Method='winsorized', alpha=0.1, epsilon=0.05, n_iters=20)"
   ]
  },
  {
   "cell_type": "code",
   "execution_count": 117,
   "metadata": {},
   "outputs": [
    {
     "ename": "TypeError",
     "evalue": "Mahalanobis_Dist() got an unexpected keyword argument 'x'",
     "output_type": "error",
     "traceback": [
      "\u001b[1;31m---------------------------------------------------------------------------\u001b[0m",
      "\u001b[1;31mTypeError\u001b[0m                                 Traceback (most recent call last)",
      "\u001b[1;32mc:\\Users\\Usuario\\Documents\\fabio\\Fabio\\Python Packages\\Distances_Package\\Tests\\test.ipynb Cell 49\u001b[0m in \u001b[0;36m<cell line: 1>\u001b[1;34m()\u001b[0m\n\u001b[1;32m----> <a href='vscode-notebook-cell:/c%3A/Users/Usuario/Documents/fabio/Fabio/Python%20Packages/Distances_Package/Tests/test.ipynb#Y114sZmlsZQ%3D%3D?line=0'>1</a>\u001b[0m Robust_Mahalanobis_Dist_Matrix(Data\u001b[39m=\u001b[39;49mData_quant, Method\u001b[39m=\u001b[39;49m\u001b[39m'\u001b[39;49m\u001b[39mtrimmed\u001b[39;49m\u001b[39m'\u001b[39;49m, alpha\u001b[39m=\u001b[39;49m\u001b[39m0.1\u001b[39;49m, epsilon\u001b[39m=\u001b[39;49m\u001b[39m0.05\u001b[39;49m, n_iters\u001b[39m=\u001b[39;49m\u001b[39m20\u001b[39;49m)\n",
      "File \u001b[1;32mc:\\Users\\Usuario\\AppData\\Local\\Programs\\Python\\Python310\\lib\\site-packages\\PyDistances\\distances.py:835\u001b[0m, in \u001b[0;36mRobust_Mahalanobis_Dist_Matrix\u001b[1;34m(Data, Method, epsilon, alpha, n_iters)\u001b[0m\n\u001b[0;32m    833\u001b[0m \u001b[39mfor\u001b[39;00m i \u001b[39min\u001b[39;00m \u001b[39mrange\u001b[39m(\u001b[39m0\u001b[39m, n):\n\u001b[0;32m    834\u001b[0m      \u001b[39mfor\u001b[39;00m r \u001b[39min\u001b[39;00m \u001b[39mrange\u001b[39m(i\u001b[39m+\u001b[39m\u001b[39m1\u001b[39m, n):        \n\u001b[1;32m--> 835\u001b[0m          M[i,r] \u001b[39m=\u001b[39m Mahalanobis_Dist(x \u001b[39m=\u001b[39;49m np\u001b[39m.\u001b[39;49marray([Data[i,:] \u001b[39m-\u001b[39;49m Data[r,:]]) , S_inv\u001b[39m=\u001b[39;49mS_inv) \n\u001b[0;32m    836\u001b[0m M \u001b[39m=\u001b[39m M \u001b[39m+\u001b[39m M\u001b[39m.\u001b[39mT                     \n\u001b[0;32m    837\u001b[0m \u001b[39mreturn\u001b[39;00m M\n",
      "\u001b[1;31mTypeError\u001b[0m: Mahalanobis_Dist() got an unexpected keyword argument 'x'"
     ]
    }
   ],
   "source": [
    "Robust_Mahalanobis_Dist_Matrix(Data=Data_quant, Method='trimmed', alpha=0.1, epsilon=0.05, n_iters=20)"
   ]
  }
 ],
 "metadata": {
  "kernelspec": {
   "display_name": "Python 3",
   "language": "python",
   "name": "python3"
  },
  "language_info": {
   "codemirror_mode": {
    "name": "ipython",
    "version": 3
   },
   "file_extension": ".py",
   "mimetype": "text/x-python",
   "name": "python",
   "nbconvert_exporter": "python",
   "pygments_lexer": "ipython3",
   "version": "3.10.0"
  },
  "orig_nbformat": 4
 },
 "nbformat": 4,
 "nbformat_minor": 2
}
