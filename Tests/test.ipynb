{
 "cells": [
  {
   "cell_type": "code",
   "execution_count": 3,
   "metadata": {},
   "outputs": [
    {
     "name": "stdout",
     "output_type": "stream",
     "text": [
      "Requirement already satisfied: PyDistances in c:\\users\\usuario\\appdata\\local\\programs\\python\\python310\\lib\\site-packages (0.0.12)\n",
      "Collecting PyDistances\n",
      "  Downloading PyDistances-0.0.13-py3-none-any.whl (12 kB)\n",
      "Requirement already satisfied: pandas in c:\\users\\usuario\\appdata\\local\\programs\\python\\python310\\lib\\site-packages (from PyDistances) (1.4.4)\n",
      "Requirement already satisfied: numpy in c:\\users\\usuario\\appdata\\local\\programs\\python\\python310\\lib\\site-packages (from PyDistances) (1.23.2)\n",
      "Requirement already satisfied: python-dateutil>=2.8.1 in c:\\users\\usuario\\appdata\\local\\programs\\python\\python310\\lib\\site-packages (from pandas->PyDistances) (2.8.2)\n",
      "Requirement already satisfied: pytz>=2020.1 in c:\\users\\usuario\\appdata\\local\\programs\\python\\python310\\lib\\site-packages (from pandas->PyDistances) (2022.2.1)\n",
      "Requirement already satisfied: six>=1.5 in c:\\users\\usuario\\appdata\\local\\programs\\python\\python310\\lib\\site-packages (from python-dateutil>=2.8.1->pandas->PyDistances) (1.16.0)\n",
      "Installing collected packages: PyDistances\n",
      "  Attempting uninstall: PyDistances\n",
      "    Found existing installation: PyDistances 0.0.12\n",
      "    Uninstalling PyDistances-0.0.12:\n",
      "      Successfully uninstalled PyDistances-0.0.12\n",
      "Successfully installed PyDistances-0.0.13\n",
      "Note: you may need to restart the kernel to use updated packages.\n"
     ]
    }
   ],
   "source": [
    "pip install PyDistances --upgrade"
   ]
  },
  {
   "cell_type": "code",
   "execution_count": 4,
   "metadata": {},
   "outputs": [
    {
     "name": "stdout",
     "output_type": "stream",
     "text": [
      "0.0.12\n"
     ]
    }
   ],
   "source": [
    "from PyDistances.quantitative import Euclidean_dist"
   ]
  }
 ],
 "metadata": {
  "kernelspec": {
   "display_name": "Python 3",
   "language": "python",
   "name": "python3"
  },
  "language_info": {
   "codemirror_mode": {
    "name": "ipython",
    "version": 3
   },
   "file_extension": ".py",
   "mimetype": "text/x-python",
   "name": "python",
   "nbconvert_exporter": "python",
   "pygments_lexer": "ipython3",
   "version": "3.10.0"
  },
  "orig_nbformat": 4
 },
 "nbformat": 4,
 "nbformat_minor": 2
}
