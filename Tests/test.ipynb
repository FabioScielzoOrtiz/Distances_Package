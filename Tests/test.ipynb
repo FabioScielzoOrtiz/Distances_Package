{
 "cells": [
  {
   "cell_type": "code",
   "execution_count": 2,
   "metadata": {},
   "outputs": [],
   "source": [
    "import pandas as pd\n",
    "import numpy as np\n",
    "import pkg_resources\n",
    "import itertools"
   ]
  },
  {
   "cell_type": "code",
   "execution_count": 3,
   "metadata": {},
   "outputs": [
    {
     "name": "stdout",
     "output_type": "stream",
     "text": [
      "Requirement already satisfied: PyDistances in c:\\users\\usuario\\appdata\\local\\programs\\python\\python310\\lib\\site-packages (0.0.12)\n",
      "Collecting PyDistances\n",
      "  Downloading PyDistances-0.0.13-py3-none-any.whl (12 kB)\n",
      "Requirement already satisfied: pandas in c:\\users\\usuario\\appdata\\local\\programs\\python\\python310\\lib\\site-packages (from PyDistances) (1.4.4)\n",
      "Requirement already satisfied: numpy in c:\\users\\usuario\\appdata\\local\\programs\\python\\python310\\lib\\site-packages (from PyDistances) (1.23.2)\n",
      "Requirement already satisfied: python-dateutil>=2.8.1 in c:\\users\\usuario\\appdata\\local\\programs\\python\\python310\\lib\\site-packages (from pandas->PyDistances) (2.8.2)\n",
      "Requirement already satisfied: pytz>=2020.1 in c:\\users\\usuario\\appdata\\local\\programs\\python\\python310\\lib\\site-packages (from pandas->PyDistances) (2022.2.1)\n",
      "Requirement already satisfied: six>=1.5 in c:\\users\\usuario\\appdata\\local\\programs\\python\\python310\\lib\\site-packages (from python-dateutil>=2.8.1->pandas->PyDistances) (1.16.0)\n",
      "Installing collected packages: PyDistances\n",
      "  Attempting uninstall: PyDistances\n",
      "    Found existing installation: PyDistances 0.0.12\n",
      "    Uninstalling PyDistances-0.0.12:\n",
      "      Successfully uninstalled PyDistances-0.0.12\n",
      "Successfully installed PyDistances-0.0.13\n",
      "Note: you may need to restart the kernel to use updated packages.\n"
     ]
    }
   ],
   "source": [
    "pip install PyDistances --upgrade"
   ]
  },
  {
   "cell_type": "code",
   "execution_count": 4,
   "metadata": {},
   "outputs": [
    {
     "name": "stdout",
     "output_type": "stream",
     "text": [
      "0.0.12\n"
     ]
    }
   ],
   "source": [
    "version = pkg_resources.get_distribution('PyDistances').version\n",
    "print(version)"
   ]
  },
  {
   "cell_type": "code",
   "execution_count": 5,
   "metadata": {},
   "outputs": [],
   "source": [
    "import PyDistances"
   ]
  },
  {
   "cell_type": "code",
   "execution_count": 6,
   "metadata": {},
   "outputs": [],
   "source": [
    "from PyDistances import Euclidean_Dist, Euclidean_Dist_Matrix, Minkowski_Dist, Minkowski_Dist_Matrix, Canberra_Dist, Canberra_Dist_Matrix, Pearson_Dist, Pearson_Dist_Matrix, Mahalanobis_Dist, Mahalanobis_Dist_Matrix, a_b_c_d_Matrix, Sokal_Similarity, Sokal_Dist, Sokal_Dist_Matrix, Jaccard_Similarity, Jaccard_Dist, Jaccard_Dist_Matrix, alpha, Matching_Similarity, Matching_Dist, Matching_Dist_Matrix, Gower_Similarity_Matrix, Gower_Dist_Matrix, Robust_Mahalanobis_Dist, Robust_Mahalanobis_Dist_Matrix, GeneralizedGowerDistance"
   ]
  },
  {
   "cell_type": "markdown",
   "metadata": {},
   "source": []
  },
  {
   "cell_type": "code",
   "execution_count": 7,
   "metadata": {},
   "outputs": [],
   "source": [
    "Data = pd.read_csv('House_Price.csv')"
   ]
  },
  {
   "cell_type": "code",
   "execution_count": 8,
   "metadata": {},
   "outputs": [],
   "source": [
    "Data = Data.loc[0:150, ['latitude', 'longitude', 'price', 'size_in_m_2', 'balcony_recode', 'private_garden_recode', 'private_gym_recode', 'quality_recode', 'no_of_bathrooms', 'no_of_bedrooms']]"
   ]
  },
  {
   "cell_type": "code",
   "execution_count": 9,
   "metadata": {},
   "outputs": [],
   "source": [
    "Data_quant = Data.loc[:,['latitude', 'longitude', 'price', 'size_in_m_2']]\n",
    "Data_binary = Data.loc[:,['balcony_recode', 'private_garden_recode', 'private_gym_recode']]\n",
    "Data_multiclass = Data.loc[:,['quality_recode', 'no_of_bathrooms', 'no_of_bedrooms']]"
   ]
  },
  {
   "cell_type": "code",
   "execution_count": 10,
   "metadata": {},
   "outputs": [
    {
     "data": {
      "text/html": [
       "<div>\n",
       "<style scoped>\n",
       "    .dataframe tbody tr th:only-of-type {\n",
       "        vertical-align: middle;\n",
       "    }\n",
       "\n",
       "    .dataframe tbody tr th {\n",
       "        vertical-align: top;\n",
       "    }\n",
       "\n",
       "    .dataframe thead th {\n",
       "        text-align: right;\n",
       "    }\n",
       "</style>\n",
       "<table border=\"1\" class=\"dataframe\">\n",
       "  <thead>\n",
       "    <tr style=\"text-align: right;\">\n",
       "      <th></th>\n",
       "      <th>latitude</th>\n",
       "      <th>longitude</th>\n",
       "      <th>price</th>\n",
       "      <th>size_in_m_2</th>\n",
       "      <th>balcony_recode</th>\n",
       "      <th>private_garden_recode</th>\n",
       "      <th>private_gym_recode</th>\n",
       "      <th>quality_recode</th>\n",
       "      <th>no_of_bathrooms</th>\n",
       "      <th>no_of_bedrooms</th>\n",
       "    </tr>\n",
       "  </thead>\n",
       "  <tbody>\n",
       "    <tr>\n",
       "      <th>0</th>\n",
       "      <td>25.113208</td>\n",
       "      <td>55.138932</td>\n",
       "      <td>2700000</td>\n",
       "      <td>100.242337</td>\n",
       "      <td>1.0</td>\n",
       "      <td>0.0</td>\n",
       "      <td>0.0</td>\n",
       "      <td>2.0</td>\n",
       "      <td>2</td>\n",
       "      <td>1</td>\n",
       "    </tr>\n",
       "    <tr>\n",
       "      <th>1</th>\n",
       "      <td>25.106809</td>\n",
       "      <td>55.151201</td>\n",
       "      <td>2850000</td>\n",
       "      <td>146.972546</td>\n",
       "      <td>1.0</td>\n",
       "      <td>0.0</td>\n",
       "      <td>0.0</td>\n",
       "      <td>2.0</td>\n",
       "      <td>2</td>\n",
       "      <td>2</td>\n",
       "    </tr>\n",
       "    <tr>\n",
       "      <th>2</th>\n",
       "      <td>25.063302</td>\n",
       "      <td>55.137728</td>\n",
       "      <td>1150000</td>\n",
       "      <td>181.253753</td>\n",
       "      <td>1.0</td>\n",
       "      <td>0.0</td>\n",
       "      <td>0.0</td>\n",
       "      <td>2.0</td>\n",
       "      <td>5</td>\n",
       "      <td>3</td>\n",
       "    </tr>\n",
       "    <tr>\n",
       "      <th>3</th>\n",
       "      <td>25.227295</td>\n",
       "      <td>55.341761</td>\n",
       "      <td>2850000</td>\n",
       "      <td>187.664060</td>\n",
       "      <td>1.0</td>\n",
       "      <td>0.0</td>\n",
       "      <td>0.0</td>\n",
       "      <td>1.0</td>\n",
       "      <td>3</td>\n",
       "      <td>2</td>\n",
       "    </tr>\n",
       "    <tr>\n",
       "      <th>4</th>\n",
       "      <td>25.114275</td>\n",
       "      <td>55.139764</td>\n",
       "      <td>1729200</td>\n",
       "      <td>47.101821</td>\n",
       "      <td>0.0</td>\n",
       "      <td>0.0</td>\n",
       "      <td>0.0</td>\n",
       "      <td>2.0</td>\n",
       "      <td>1</td>\n",
       "      <td>0</td>\n",
       "    </tr>\n",
       "    <tr>\n",
       "      <th>...</th>\n",
       "      <td>...</td>\n",
       "      <td>...</td>\n",
       "      <td>...</td>\n",
       "      <td>...</td>\n",
       "      <td>...</td>\n",
       "      <td>...</td>\n",
       "      <td>...</td>\n",
       "      <td>...</td>\n",
       "      <td>...</td>\n",
       "      <td>...</td>\n",
       "    </tr>\n",
       "    <tr>\n",
       "      <th>146</th>\n",
       "      <td>25.044572</td>\n",
       "      <td>55.218948</td>\n",
       "      <td>390000</td>\n",
       "      <td>78.874647</td>\n",
       "      <td>1.0</td>\n",
       "      <td>0.0</td>\n",
       "      <td>0.0</td>\n",
       "      <td>2.0</td>\n",
       "      <td>2</td>\n",
       "      <td>1</td>\n",
       "    </tr>\n",
       "    <tr>\n",
       "      <th>147</th>\n",
       "      <td>25.089719</td>\n",
       "      <td>55.170481</td>\n",
       "      <td>1650000</td>\n",
       "      <td>135.452574</td>\n",
       "      <td>1.0</td>\n",
       "      <td>0.0</td>\n",
       "      <td>0.0</td>\n",
       "      <td>2.0</td>\n",
       "      <td>2</td>\n",
       "      <td>2</td>\n",
       "    </tr>\n",
       "    <tr>\n",
       "      <th>148</th>\n",
       "      <td>25.072791</td>\n",
       "      <td>55.129829</td>\n",
       "      <td>1200000</td>\n",
       "      <td>117.243586</td>\n",
       "      <td>1.0</td>\n",
       "      <td>0.0</td>\n",
       "      <td>0.0</td>\n",
       "      <td>2.0</td>\n",
       "      <td>2</td>\n",
       "      <td>2</td>\n",
       "    </tr>\n",
       "    <tr>\n",
       "      <th>149</th>\n",
       "      <td>25.112725</td>\n",
       "      <td>55.109525</td>\n",
       "      <td>5400000</td>\n",
       "      <td>420.478978</td>\n",
       "      <td>1.0</td>\n",
       "      <td>0.0</td>\n",
       "      <td>0.0</td>\n",
       "      <td>2.0</td>\n",
       "      <td>5</td>\n",
       "      <td>4</td>\n",
       "    </tr>\n",
       "    <tr>\n",
       "      <th>150</th>\n",
       "      <td>25.073590</td>\n",
       "      <td>55.126352</td>\n",
       "      <td>14800000</td>\n",
       "      <td>466.187254</td>\n",
       "      <td>1.0</td>\n",
       "      <td>0.0</td>\n",
       "      <td>1.0</td>\n",
       "      <td>0.0</td>\n",
       "      <td>5</td>\n",
       "      <td>5</td>\n",
       "    </tr>\n",
       "  </tbody>\n",
       "</table>\n",
       "<p>151 rows × 10 columns</p>\n",
       "</div>"
      ],
      "text/plain": [
       "      latitude  longitude     price  size_in_m_2  balcony_recode  \\\n",
       "0    25.113208  55.138932   2700000   100.242337             1.0   \n",
       "1    25.106809  55.151201   2850000   146.972546             1.0   \n",
       "2    25.063302  55.137728   1150000   181.253753             1.0   \n",
       "3    25.227295  55.341761   2850000   187.664060             1.0   \n",
       "4    25.114275  55.139764   1729200    47.101821             0.0   \n",
       "..         ...        ...       ...          ...             ...   \n",
       "146  25.044572  55.218948    390000    78.874647             1.0   \n",
       "147  25.089719  55.170481   1650000   135.452574             1.0   \n",
       "148  25.072791  55.129829   1200000   117.243586             1.0   \n",
       "149  25.112725  55.109525   5400000   420.478978             1.0   \n",
       "150  25.073590  55.126352  14800000   466.187254             1.0   \n",
       "\n",
       "     private_garden_recode  private_gym_recode  quality_recode  \\\n",
       "0                      0.0                 0.0             2.0   \n",
       "1                      0.0                 0.0             2.0   \n",
       "2                      0.0                 0.0             2.0   \n",
       "3                      0.0                 0.0             1.0   \n",
       "4                      0.0                 0.0             2.0   \n",
       "..                     ...                 ...             ...   \n",
       "146                    0.0                 0.0             2.0   \n",
       "147                    0.0                 0.0             2.0   \n",
       "148                    0.0                 0.0             2.0   \n",
       "149                    0.0                 0.0             2.0   \n",
       "150                    0.0                 1.0             0.0   \n",
       "\n",
       "     no_of_bathrooms  no_of_bedrooms  \n",
       "0                  2               1  \n",
       "1                  2               2  \n",
       "2                  5               3  \n",
       "3                  3               2  \n",
       "4                  1               0  \n",
       "..               ...             ...  \n",
       "146                2               1  \n",
       "147                2               2  \n",
       "148                2               2  \n",
       "149                5               4  \n",
       "150                5               5  \n",
       "\n",
       "[151 rows x 10 columns]"
      ]
     },
     "execution_count": 10,
     "metadata": {},
     "output_type": "execute_result"
    }
   ],
   "source": [
    "Data # p1=4, p2=3, p3=3"
   ]
  },
  {
   "cell_type": "code",
   "execution_count": 14,
   "metadata": {},
   "outputs": [],
   "source": [
    "import tabulate\n",
    "from tabulate import tabulate"
   ]
  },
  {
   "cell_type": "code",
   "execution_count": 16,
   "metadata": {},
   "outputs": [
    {
     "name": "stdout",
     "output_type": "stream",
     "text": [
      "|  latitude  |  longitude  |   price    |  size_in_m_2  |  balcony_recode  |  private_garden_recode  |  private_gym_recode  |  quality_recode  |  no_of_bathrooms  |  no_of_bedrooms  |\n",
      "|:----------:|:-----------:|:----------:|:-------------:|:----------------:|:-----------------------:|:--------------------:|:----------------:|:-----------------:|:----------------:|\n",
      "|  25.1132   |   55.1389   |  2.7e+06   |    100.242    |        1         |            0            |          0           |        2         |         2         |        1         |\n",
      "|  25.1068   |   55.1512   |  2.85e+06  |    146.973    |        1         |            0            |          0           |        2         |         2         |        2         |\n",
      "|  25.0633   |   55.1377   |  1.15e+06  |    181.254    |        1         |            0            |          0           |        2         |         5         |        3         |\n",
      "|  25.2273   |   55.3418   |  2.85e+06  |    187.664    |        1         |            0            |          0           |        1         |         3         |        2         |\n",
      "|  25.1143   |   55.1398   | 1.7292e+06 |    47.1018    |        0         |            0            |          0           |        2         |         1         |        0         |\n"
     ]
    }
   ],
   "source": [
    "# Convert data-frame to a list of lists such that each list will be a row of the original data-frame.\n",
    "data =  Data.head().values.tolist()\n",
    "# Specifying the names of the table headers.\n",
    "headers = Data.columns \n",
    "# Specify the alignment of the table strings and numbers.\n",
    "stralign = 'center'\n",
    "numalign = 'center'\n",
    "# Create the Markdown table using the tabulate function.\n",
    "markdown_table = tabulate(data, headers=headers, tablefmt='pipe', stralign=stralign, numalign=numalign)\n",
    "print(markdown_table)"
   ]
  },
  {
   "cell_type": "markdown",
   "metadata": {},
   "source": []
  },
  {
   "cell_type": "code",
   "execution_count": 10,
   "metadata": {},
   "outputs": [
    {
     "data": {
      "text/plain": [
       "0.0"
      ]
     },
     "execution_count": 10,
     "metadata": {},
     "output_type": "execute_result"
    }
   ],
   "source": [
    "Euclidean_Dist(Data_quant.iloc[0,:], Data_quant.iloc[0,:])"
   ]
  },
  {
   "cell_type": "code",
   "execution_count": 11,
   "metadata": {},
   "outputs": [
    {
     "data": {
      "text/plain": [
       "1550000.002117049"
      ]
     },
     "execution_count": 11,
     "metadata": {},
     "output_type": "execute_result"
    }
   ],
   "source": [
    "Euclidean_Dist(Data_quant.iloc[0,:], Data_quant.iloc[2,:])"
   ]
  },
  {
   "cell_type": "code",
   "execution_count": 12,
   "metadata": {},
   "outputs": [
    {
     "data": {
      "text/plain": [
       "array([[       0.        ,   150000.00727904,  1550000.00211705, ...,\n",
       "         1500000.00009635,  2700000.01899102, 12100000.00553371],\n",
       "       [  150000.00727904,        0.        ,  1700000.00034565, ...,\n",
       "         1650000.00026782,  2550000.0146678 , 11950000.00426352],\n",
       "       [ 1550000.00211705,  1700000.00034565,        0.        , ...,\n",
       "           50000.040973  ,  4250000.00673279, 13650000.00297389],\n",
       "       ...,\n",
       "       [ 1500000.00009635,  1650000.00026782,    50000.040973  , ...,\n",
       "               0.        ,  4200000.01094663, 13600000.00447653],\n",
       "       [ 2700000.01899102,  2550000.0146678 ,  4250000.00673279, ...,\n",
       "         4200000.01094663,        0.        ,  9400000.00011113],\n",
       "       [12100000.00553371, 11950000.00426352, 13650000.00297389, ...,\n",
       "        13600000.00447653,  9400000.00011113,        0.        ]])"
      ]
     },
     "execution_count": 12,
     "metadata": {},
     "output_type": "execute_result"
    }
   ],
   "source": [
    "Euclidean_Dist_Matrix(Data_quant)"
   ]
  },
  {
   "cell_type": "markdown",
   "metadata": {},
   "source": []
  },
  {
   "cell_type": "code",
   "execution_count": 13,
   "metadata": {},
   "outputs": [
    {
     "data": {
      "text/plain": [
       "0.0"
      ]
     },
     "execution_count": 13,
     "metadata": {},
     "output_type": "execute_result"
    }
   ],
   "source": [
    "Minkowski_Dist(Data_quant.iloc[0,:], Data_quant.iloc[0,:], q=1)"
   ]
  },
  {
   "cell_type": "code",
   "execution_count": 14,
   "metadata": {},
   "outputs": [
    {
     "data": {
      "text/plain": [
       "1550081.062526"
      ]
     },
     "execution_count": 14,
     "metadata": {},
     "output_type": "execute_result"
    }
   ],
   "source": [
    "Minkowski_Dist(Data_quant.iloc[0,:], Data_quant.iloc[2,:], q=1)"
   ]
  },
  {
   "cell_type": "code",
   "execution_count": 15,
   "metadata": {},
   "outputs": [
    {
     "data": {
      "text/plain": [
       "array([[       0.      ,   150046.748877,  1550081.062526, ...,\n",
       "         1500017.050769,  2700320.266531, 12100365.997115],\n",
       "       [  150046.748877,        0.      ,  1700034.338187, ...,\n",
       "         1650029.78435 ,  2550273.554024, 11950319.272776],\n",
       "       [ 1550081.062526,  1700034.338187,        0.      , ...,\n",
       "           50064.027555,  4250239.302851, 13650284.955165],\n",
       "       ...,\n",
       "       [ 1500017.050769,  1650029.78435 ,    50064.027555, ...,\n",
       "               0.      ,  4200303.29563 , 13600348.947944],\n",
       "       [ 2700320.266531,  2550273.554024,  4250239.302851, ...,\n",
       "         4200303.29563 ,        0.      ,  9400045.764238],\n",
       "       [12100365.997115, 11950319.272776, 13650284.955165, ...,\n",
       "        13600348.947944,  9400045.764238,        0.      ]])"
      ]
     },
     "execution_count": 15,
     "metadata": {},
     "output_type": "execute_result"
    }
   ],
   "source": [
    "Minkowski_Dist_Matrix(Data_quant, q=1)"
   ]
  },
  {
   "cell_type": "markdown",
   "metadata": {},
   "source": []
  },
  {
   "cell_type": "code",
   "execution_count": 16,
   "metadata": {},
   "outputs": [
    {
     "data": {
      "text/plain": [
       "0.0"
      ]
     },
     "execution_count": 16,
     "metadata": {},
     "output_type": "execute_result"
    }
   ],
   "source": [
    "Canberra_Dist(Data_quant.iloc[0,:], Data_quant.iloc[0,:])"
   ]
  },
  {
   "cell_type": "code",
   "execution_count": 17,
   "metadata": {},
   "outputs": [
    {
     "data": {
      "text/plain": [
       "0.6913917083019879"
      ]
     },
     "execution_count": 17,
     "metadata": {},
     "output_type": "execute_result"
    }
   ],
   "source": [
    "Canberra_Dist(Data_quant.iloc[0,:], Data_quant.iloc[2,:])"
   ]
  },
  {
   "cell_type": "code",
   "execution_count": 18,
   "metadata": {},
   "outputs": [
    {
     "data": {
      "text/plain": [
       "array([[0.        , 0.21629237, 0.69139171, ..., 0.463675  , 0.9485963 ,\n",
       "        1.33838751],\n",
       "       [0.21629237, 0.        , 0.53043317, ..., 0.52079671, 0.79157752,\n",
       "        1.19854721],\n",
       "       [0.69139171, 0.53043317, 0.        , ..., 0.23597883, 1.04765637,\n",
       "        1.29619958],\n",
       "       ...,\n",
       "       [0.463675  , 0.52079671, 0.23597883, ..., 0.        , 1.20126891,\n",
       "        1.44813664],\n",
       "       [0.9485963 , 0.79157752, 1.04765637, ..., 1.20126891, 0.        ,\n",
       "        0.51782969],\n",
       "       [1.33838751, 1.19854721, 1.29619958, ..., 1.44813664, 0.51782969,\n",
       "        0.        ]])"
      ]
     },
     "execution_count": 18,
     "metadata": {},
     "output_type": "execute_result"
    }
   ],
   "source": [
    "Canberra_Dist_Matrix(Data_quant)"
   ]
  },
  {
   "cell_type": "markdown",
   "metadata": {},
   "source": []
  },
  {
   "cell_type": "code",
   "execution_count": 19,
   "metadata": {},
   "outputs": [
    {
     "data": {
      "text/plain": [
       "0.0"
      ]
     },
     "execution_count": 19,
     "metadata": {},
     "output_type": "execute_result"
    }
   ],
   "source": [
    "Pearson_Dist(Data_quant.iloc[0,:], Data_quant.iloc[0,:], variance=Data.var())"
   ]
  },
  {
   "cell_type": "code",
   "execution_count": 20,
   "metadata": {},
   "outputs": [
    {
     "data": {
      "text/plain": [
       "1.5393297661160206"
      ]
     },
     "execution_count": 20,
     "metadata": {},
     "output_type": "execute_result"
    }
   ],
   "source": [
    "Pearson_Dist(Data_quant.iloc[0,:], Data_quant.iloc[2,:], variance=Data.var())"
   ]
  },
  {
   "cell_type": "code",
   "execution_count": 21,
   "metadata": {},
   "outputs": [
    {
     "data": {
      "text/plain": [
       "array([[0.        , 0.63961801, 1.53932977, ..., 1.03084131, 4.32943281,\n",
       "        7.47171915],\n",
       "       [0.63961801, 0.        , 1.20505141, ..., 1.09780711, 3.76643257,\n",
       "        7.04893716],\n",
       "       [1.53932977, 1.20505141, 0.        , ..., 0.84617436, 3.79891055,\n",
       "        7.4670243 ],\n",
       "       ...,\n",
       "       [1.03084131, 1.09780711, 0.84617436, ..., 0.        , 4.44143053,\n",
       "        7.87905955],\n",
       "       [4.32943281, 3.76643257, 3.79891055, ..., 4.44143053, 0.        ,\n",
       "        4.57460318],\n",
       "       [7.47171915, 7.04893716, 7.4670243 , ..., 7.87905955, 4.57460318,\n",
       "        0.        ]])"
      ]
     },
     "execution_count": 21,
     "metadata": {},
     "output_type": "execute_result"
    }
   ],
   "source": [
    "Pearson_Dist_Matrix(Data_quant)"
   ]
  },
  {
   "cell_type": "markdown",
   "metadata": {},
   "source": []
  },
  {
   "cell_type": "code",
   "execution_count": 22,
   "metadata": {},
   "outputs": [
    {
     "data": {
      "text/plain": [
       "2.7671855371187757"
      ]
     },
     "execution_count": 22,
     "metadata": {},
     "output_type": "execute_result"
    }
   ],
   "source": [
    "Mahalanobis_Dist(Data_quant.iloc[0,:], Data_quant.iloc[2,:], S_inv=np.linalg.inv( np.cov(Data_quant , rowvar=False) ))"
   ]
  },
  {
   "cell_type": "code",
   "execution_count": 23,
   "metadata": {},
   "outputs": [
    {
     "data": {
      "text/plain": [
       "array([[0.        , 0.92801614, 2.76718554, ..., 1.52541554, 5.21105193,\n",
       "        6.45997793],\n",
       "       [0.92801614, 0.        , 1.96135599, ..., 0.98693199, 4.43479282,\n",
       "        6.2920865 ],\n",
       "       [2.76718554, 1.96135599, 0.        , ..., 1.3592188 , 3.4307313 ,\n",
       "        7.27986558],\n",
       "       ...,\n",
       "       [1.52541554, 0.98693199, 1.3592188 , ..., 0.        , 4.41360406,\n",
       "        7.01503103],\n",
       "       [5.21105193, 4.43479282, 3.4307313 , ..., 4.41360406, 0.        ,\n",
       "        7.4691448 ],\n",
       "       [6.45997793, 6.2920865 , 7.27986558, ..., 7.01503103, 7.4691448 ,\n",
       "        0.        ]])"
      ]
     },
     "execution_count": 23,
     "metadata": {},
     "output_type": "execute_result"
    }
   ],
   "source": [
    "Mahalanobis_Dist_Matrix(Data_quant)"
   ]
  },
  {
   "cell_type": "markdown",
   "metadata": {},
   "source": []
  },
  {
   "cell_type": "code",
   "execution_count": 24,
   "metadata": {},
   "outputs": [],
   "source": [
    "a,b,c,d,p = a_b_c_d_Matrix(Data_binary)"
   ]
  },
  {
   "cell_type": "code",
   "execution_count": 25,
   "metadata": {},
   "outputs": [
    {
     "data": {
      "text/plain": [
       "1.0"
      ]
     },
     "execution_count": 25,
     "metadata": {},
     "output_type": "execute_result"
    }
   ],
   "source": [
    "Sokal_Similarity(i=0, r=2, a=a, d=d, p=p)"
   ]
  },
  {
   "cell_type": "code",
   "execution_count": 26,
   "metadata": {},
   "outputs": [
    {
     "data": {
      "text/plain": [
       "0.0"
      ]
     },
     "execution_count": 26,
     "metadata": {},
     "output_type": "execute_result"
    }
   ],
   "source": [
    "Sokal_Dist(i=0, r=2, a=a, d=d, p=p)"
   ]
  },
  {
   "cell_type": "code",
   "execution_count": 27,
   "metadata": {},
   "outputs": [
    {
     "data": {
      "text/plain": [
       "array([[0.        , 0.        , 0.        , ..., 0.        , 0.        ,\n",
       "        0.81649658],\n",
       "       [0.        , 0.        , 0.        , ..., 0.        , 0.        ,\n",
       "        0.81649658],\n",
       "       [0.        , 0.        , 0.        , ..., 0.        , 0.        ,\n",
       "        0.81649658],\n",
       "       ...,\n",
       "       [0.        , 0.        , 0.        , ..., 0.        , 0.        ,\n",
       "        0.81649658],\n",
       "       [0.        , 0.        , 0.        , ..., 0.        , 0.        ,\n",
       "        0.81649658],\n",
       "       [0.81649658, 0.81649658, 0.81649658, ..., 0.81649658, 0.81649658,\n",
       "        0.        ]])"
      ]
     },
     "execution_count": 27,
     "metadata": {},
     "output_type": "execute_result"
    }
   ],
   "source": [
    "Sokal_Dist_Matrix(Data_binary)"
   ]
  },
  {
   "cell_type": "code",
   "execution_count": 28,
   "metadata": {},
   "outputs": [
    {
     "data": {
      "text/plain": [
       "1.0"
      ]
     },
     "execution_count": 28,
     "metadata": {},
     "output_type": "execute_result"
    }
   ],
   "source": [
    "Jaccard_Similarity(i=0, r=0, a=a, d=d, p=p)"
   ]
  },
  {
   "cell_type": "code",
   "execution_count": 29,
   "metadata": {},
   "outputs": [
    {
     "data": {
      "text/plain": [
       "1.0"
      ]
     },
     "execution_count": 29,
     "metadata": {},
     "output_type": "execute_result"
    }
   ],
   "source": [
    "Jaccard_Similarity(i=0, r=2, a=a, d=d, p=p)"
   ]
  },
  {
   "cell_type": "code",
   "execution_count": 30,
   "metadata": {},
   "outputs": [
    {
     "data": {
      "text/plain": [
       "0.0"
      ]
     },
     "execution_count": 30,
     "metadata": {},
     "output_type": "execute_result"
    }
   ],
   "source": [
    "Jaccard_Dist(i=0, r=2, a=a, d=d, p=p)"
   ]
  },
  {
   "cell_type": "code",
   "execution_count": 31,
   "metadata": {},
   "outputs": [
    {
     "data": {
      "text/plain": [
       "array([[0., 0., 0., ..., 0., 0., 1.],\n",
       "       [0., 0., 0., ..., 0., 0., 1.],\n",
       "       [0., 0., 0., ..., 0., 0., 1.],\n",
       "       ...,\n",
       "       [0., 0., 0., ..., 0., 0., 1.],\n",
       "       [0., 0., 0., ..., 0., 0., 1.],\n",
       "       [1., 1., 1., ..., 1., 1., 0.]])"
      ]
     },
     "execution_count": 31,
     "metadata": {},
     "output_type": "execute_result"
    }
   ],
   "source": [
    "Jaccard_Dist_Matrix(Data_binary)"
   ]
  },
  {
   "cell_type": "code",
   "execution_count": 32,
   "metadata": {},
   "outputs": [
    {
     "data": {
      "text/plain": [
       "0.3333333333333333"
      ]
     },
     "execution_count": 32,
     "metadata": {},
     "output_type": "execute_result"
    }
   ],
   "source": [
    "Matching_Similarity(x_i=Data_multiclass.iloc[0,:], x_r=Data_multiclass.iloc[2,:], Data=Data_multiclass)"
   ]
  },
  {
   "cell_type": "code",
   "execution_count": 33,
   "metadata": {},
   "outputs": [
    {
     "data": {
      "text/plain": [
       "1.1547005383792517"
      ]
     },
     "execution_count": 33,
     "metadata": {},
     "output_type": "execute_result"
    }
   ],
   "source": [
    "Matching_Dist(x_i=Data_multiclass.iloc[0,:], x_r=Data_multiclass.iloc[2,:], Data=Data_multiclass)"
   ]
  },
  {
   "cell_type": "code",
   "execution_count": 34,
   "metadata": {},
   "outputs": [
    {
     "data": {
      "text/plain": [
       "array([[0.        , 0.81649658, 1.15470054, ..., 0.81649658, 1.15470054,\n",
       "        1.41421356],\n",
       "       [0.81649658, 0.        , 1.15470054, ..., 0.        , 1.15470054,\n",
       "        1.41421356],\n",
       "       [1.15470054, 1.15470054, 0.        , ..., 1.15470054, 0.81649658,\n",
       "        1.15470054],\n",
       "       ...,\n",
       "       [0.81649658, 0.        , 1.15470054, ..., 0.        , 1.15470054,\n",
       "        1.41421356],\n",
       "       [1.15470054, 1.15470054, 0.81649658, ..., 1.15470054, 0.        ,\n",
       "        1.15470054],\n",
       "       [1.41421356, 1.41421356, 1.15470054, ..., 1.41421356, 1.15470054,\n",
       "        0.        ]])"
      ]
     },
     "execution_count": 34,
     "metadata": {},
     "output_type": "execute_result"
    }
   ],
   "source": [
    "Matching_Dist_Matrix(Data_multiclass)"
   ]
  },
  {
   "cell_type": "markdown",
   "metadata": {},
   "source": []
  },
  {
   "cell_type": "code",
   "execution_count": 35,
   "metadata": {},
   "outputs": [
    {
     "data": {
      "text/plain": [
       "array([[1.        , 0.85175283, 0.68485131, ..., 0.83008431, 0.62482353,\n",
       "        0.34709882],\n",
       "       [0.85175283, 1.        , 0.69489168, ..., 0.94863663, 0.63064768,\n",
       "        0.35833279],\n",
       "       [0.68485131, 0.69489168, 1.        , ..., 0.72293677, 0.73120218,\n",
       "        0.48172501],\n",
       "       ...,\n",
       "       [0.83008431, 0.94863663, 0.72293677, ..., 1.        , 0.59776459,\n",
       "        0.36311382],\n",
       "       [0.62482353, 0.63064768, 0.73120218, ..., 0.59776459, 1.        ,\n",
       "        0.55654437],\n",
       "       [0.34709882, 0.35833279, 0.48172501, ..., 0.36311382, 0.55654437,\n",
       "        1.        ]])"
      ]
     },
     "execution_count": 35,
     "metadata": {},
     "output_type": "execute_result"
    }
   ],
   "source": [
    "Gower_Similarity_Matrix(Data, p1=4, p2=3, p3=3)"
   ]
  },
  {
   "cell_type": "code",
   "execution_count": 36,
   "metadata": {},
   "outputs": [
    {
     "data": {
      "text/plain": [
       "array([[0.        , 0.38502879, 0.56138105, ..., 0.41220831, 0.61251651,\n",
       "        0.808023  ],\n",
       "       [0.38502879, 0.        , 0.55236611, ..., 0.22663488, 0.60774363,\n",
       "        0.80104133],\n",
       "       [0.56138105, 0.55236611, 0.        , ..., 0.52636796, 0.51845716,\n",
       "        0.71991318],\n",
       "       ...,\n",
       "       [0.41220831, 0.22663488, 0.52636796, ..., 0.        , 0.63422032,\n",
       "        0.79805149],\n",
       "       [0.61251651, 0.60774363, 0.51845716, ..., 0.63422032, 0.        ,\n",
       "        0.66592464],\n",
       "       [0.808023  , 0.80104133, 0.71991318, ..., 0.79805149, 0.66592464,\n",
       "        0.        ]])"
      ]
     },
     "execution_count": 36,
     "metadata": {},
     "output_type": "execute_result"
    }
   ],
   "source": [
    "Gower_Dist_Matrix(Data, p1=4, p2=3, p3=3)"
   ]
  },
  {
   "cell_type": "markdown",
   "metadata": {},
   "source": []
  },
  {
   "cell_type": "code",
   "execution_count": 37,
   "metadata": {},
   "outputs": [
    {
     "data": {
      "text/plain": [
       "2.1448247626892223"
      ]
     },
     "execution_count": 37,
     "metadata": {},
     "output_type": "execute_result"
    }
   ],
   "source": [
    "Robust_Mahalanobis_Dist(x_i=Data_quant.iloc[0,:], x_r=Data_quant.iloc[2,:], Data=Data_quant, Method='MAD', epsilon=0.05, n_iters=20)"
   ]
  },
  {
   "cell_type": "code",
   "execution_count": 38,
   "metadata": {},
   "outputs": [
    {
     "data": {
      "text/plain": [
       "2.7434709885399884"
      ]
     },
     "execution_count": 38,
     "metadata": {},
     "output_type": "execute_result"
    }
   ],
   "source": [
    "Robust_Mahalanobis_Dist(x_i=Data_quant.iloc[0,:], x_r=Data_quant.iloc[2,:], Data=Data_quant, Method='trimmed', alpha=0.1, epsilon=0.05, n_iters=20)"
   ]
  },
  {
   "cell_type": "code",
   "execution_count": 39,
   "metadata": {},
   "outputs": [
    {
     "data": {
      "text/plain": [
       "2.8446274140577943"
      ]
     },
     "execution_count": 39,
     "metadata": {},
     "output_type": "execute_result"
    }
   ],
   "source": [
    "Robust_Mahalanobis_Dist(x_i=Data_quant.iloc[0,:], x_r=Data_quant.iloc[2,:], Data=Data_quant, Method='winsorized', alpha=0.1, epsilon=0.05, n_iters=20)"
   ]
  },
  {
   "cell_type": "code",
   "execution_count": 40,
   "metadata": {},
   "outputs": [
    {
     "data": {
      "text/plain": [
       "array([[ 0.        ,  0.89250845,  2.74347099, ...,  1.48503889,\n",
       "         5.95276234,  8.49453068],\n",
       "       [ 0.89250845,  0.        ,  1.99959936, ...,  0.96839524,\n",
       "         5.33355737,  8.32070442],\n",
       "       [ 2.74347099,  1.99959936,  0.        , ...,  1.36336733,\n",
       "         4.12306341,  9.38094479],\n",
       "       ...,\n",
       "       [ 1.48503889,  0.96839524,  1.36336733, ...,  0.        ,\n",
       "         5.1322854 ,  9.00337923],\n",
       "       [ 5.95276234,  5.33355737,  4.12306341, ...,  5.1322854 ,\n",
       "         0.        , 11.06785954],\n",
       "       [ 8.49453068,  8.32070442,  9.38094479, ...,  9.00337923,\n",
       "        11.06785954,  0.        ]])"
      ]
     },
     "execution_count": 40,
     "metadata": {},
     "output_type": "execute_result"
    }
   ],
   "source": [
    "Robust_Mahalanobis_Dist_Matrix(Data=Data_quant, Method='trimmed', alpha=0.1, epsilon=0.05, n_iters=20)"
   ]
  },
  {
   "cell_type": "markdown",
   "metadata": {},
   "source": []
  },
  {
   "cell_type": "markdown",
   "metadata": {},
   "source": []
  },
  {
   "cell_type": "code",
   "execution_count": 41,
   "metadata": {},
   "outputs": [],
   "source": [
    "D_GG_list_maha_robust = []\n",
    "D_RelMS_list_maha_robust = []\n",
    "D_GG_list_not_maha_robust = []\n",
    "D_RelMS_list_not_maha_robust = []\n",
    "\n",
    "d1_list = ['Euclidean', 'Minkowski', 'Canberra', 'Pearson', 'Mahalanobis']\n",
    "d2_list = ['Sokal', 'Jaccard']\n",
    "d3_list = ['Matching']"
   ]
  },
  {
   "cell_type": "code",
   "execution_count": 42,
   "metadata": {},
   "outputs": [],
   "source": [
    "for d in itertools.product(d1_list, d2_list, d3_list) :\n",
    "    Generalized_Gower_Distance_init = GeneralizedGowerDistance(Data=Data, p1=4, p2=3, p3=3, d1=d[0], d2=d[1], d3=d[2], q=1)\n",
    "    D, D_2 = Generalized_Gower_Distance_init.compute(Related_Metric_Scaling=False)\n",
    "    D_GG_list_not_maha_robust.append(D)"
   ]
  },
  {
   "cell_type": "code",
   "execution_count": 43,
   "metadata": {},
   "outputs": [],
   "source": [
    "for d in itertools.product(['Robust_Mahalanobis'], d2_list, d3_list, ['trimmed', 'winsorized', 'MAD']) :\n",
    "   Generalized_Gower_Distance_init = GeneralizedGowerDistance(Data=Data, p1=4, p2=3, p3=3, d1=d[0], d2=d[1], d3=d[2], epsilon=0.05, Method=d[3], alpha=0.1)\n",
    "   D, D_2 = Generalized_Gower_Distance_init.compute(Related_Metric_Scaling=False)\n",
    "   D_GG_list_maha_robust.append(D)"
   ]
  },
  {
   "cell_type": "code",
   "execution_count": 44,
   "metadata": {},
   "outputs": [
    {
     "name": "stdout",
     "output_type": "stream",
     "text": [
      "Al calcular Canberra se ha comprobado que G_1 no es semidefinida positiva, y debe serlo. Se le aplicara una transformacion.\n",
      "Autovalores negativos de G_1 (primeros 7): [-5.044056584480705, -3.124442001195025, -1.7378974672786756, -1.413202402476645, -1.3104635774784807, -0.9228053799416429, -0.8431820513482016]\n",
      "G_1 ha sido transformada y ahora es SDP\n",
      "Al calcular Canberra se ha comprobado que G_1 no es semidefinida positiva, y debe serlo. Se le aplicara una transformacion.\n",
      "Autovalores negativos de G_1 (primeros 7): [-5.044056584480705, -3.124442001195025, -1.7378974672786756, -1.413202402476645, -1.3104635774784807, -0.9228053799416429, -0.8431820513482016]\n",
      "G_1 ha sido transformada y ahora es SDP\n"
     ]
    }
   ],
   "source": [
    "for d in itertools.product(d1_list, d2_list, d3_list) :\n",
    "   Generalized_Gower_Distance_init = GeneralizedGowerDistance(Data=Data, p1=4, p2=3, p3=3, d1=d[0], d2=d[1], d3=d[2], q=1)\n",
    "   D, D_2 = Generalized_Gower_Distance_init.compute(Related_Metric_Scaling=True, tol=0.009, d=2)\n",
    "   D_RelMS_list_not_maha_robust.append(D)"
   ]
  },
  {
   "cell_type": "code",
   "execution_count": 45,
   "metadata": {},
   "outputs": [],
   "source": [
    "for d in itertools.product(['Robust_Mahalanobis'], d2_list, d3_list, ['trimmed', 'winsorized', 'MAD']) :\n",
    "   Generalized_Gower_Distance_init = GeneralizedGowerDistance(Data=Data, p1=4, p2=3, p3=3, d1=d[0], d2=d[1], d3=d[2], epsilon=0.05, Method=d[3], alpha=0.1)\n",
    "   D, D_2 = Generalized_Gower_Distance_init.compute(Related_Metric_Scaling=True, tol=0.009, d=2)\n",
    "   D_RelMS_list_maha_robust.append(D)"
   ]
  },
  {
   "cell_type": "code",
   "execution_count": 46,
   "metadata": {},
   "outputs": [],
   "source": [
    "D_GG_list = D_GG_list_not_maha_robust + D_GG_list_maha_robust\n",
    "D_RelMS_list = D_RelMS_list_not_maha_robust + D_RelMS_list_maha_robust"
   ]
  },
  {
   "cell_type": "code",
   "execution_count": 48,
   "metadata": {},
   "outputs": [],
   "source": [
    "search_space = [x  for x in D_GG_list] + [x  for x in D_RelMS_list]\n",
    "distance_names = ['GG_'+x[0]+'_'+x[1]+'_'+x[2]  for x in itertools.product(d1_list, d2_list, d3_list)] + ['GG_'+x[0]+'_'+x[1]+'_'+x[2]+'_'+x[3] for x in itertools.product(['Robust_Mahalanobis'], d2_list, d3_list, ['trimmed', 'winsorized', 'MAD'])] + ['RelMS_'+x[0]+'_'+x[1]+'_'+x[2] for x in itertools.product(d1_list, d2_list, d3_list)] + ['RelMS_'+x[0]+'_'+x[1]+'_'+x[2]+'_'+x[3] for x in itertools.product(['Robust_Mahalanobis'], d2_list, d3_list, ['trimmed', 'winsorized', 'MAD'])]\n",
    "dic_distance_matrix = dict(zip(distance_names, search_space))"
   ]
  },
  {
   "cell_type": "code",
   "execution_count": 49,
   "metadata": {},
   "outputs": [
    {
     "data": {
      "text/plain": [
       "{'GG_Euclidean_Sokal_Matching': array([[0.        , 1.01161446, 1.60800698, ..., 1.23798333, 1.92432848,\n",
       "         6.35838514],\n",
       "        [1.01161446, 0.        , 1.64229596, ..., 0.7889253 , 1.87696727,\n",
       "         6.29319748],\n",
       "        [1.60800698, 1.64229596, 0.        , ..., 1.42723912, 2.26882579,\n",
       "         6.96673669],\n",
       "        ...,\n",
       "        [1.23798333, 0.7889253 , 1.42723912, ..., 0.        , 2.4635748 ,\n",
       "         7.01727531],\n",
       "        [1.92432848, 1.87696727, 2.26882579, ..., 2.4635748 , 0.        ,\n",
       "         5.11270638],\n",
       "        [6.35838514, 6.29319748, 6.96673669, ..., 7.01727531, 5.11270638,\n",
       "         0.        ]]),\n",
       " 'GG_Euclidean_Jaccard_Matching': array([[0.        , 1.01161446, 1.60800698, ..., 1.23798333, 1.92432848,\n",
       "         6.21923207],\n",
       "        [1.01161446, 0.        , 1.64229596, ..., 0.7889253 , 1.87696727,\n",
       "         6.15257024],\n",
       "        [1.60800698, 1.64229596, 0.        , ..., 1.42723912, 2.26882579,\n",
       "         6.83997121],\n",
       "        ...,\n",
       "        [1.23798333, 0.7889253 , 1.42723912, ..., 0.        , 2.4635748 ,\n",
       "         6.89143953],\n",
       "        [1.92432848, 1.87696727, 2.26882579, ..., 2.4635748 , 0.        ,\n",
       "         4.93857798],\n",
       "        [6.21923207, 6.15257024, 6.83997121, ..., 6.89143953, 4.93857798,\n",
       "         0.        ]]),\n",
       " 'GG_Minkowski_Sokal_Matching': array([[0.        , 1.01161589, 1.60801451, ..., 1.23797549, 1.92440501,\n",
       "         6.35838512],\n",
       "        [1.01161589, 0.        , 1.64229192, ..., 0.78891568, 1.87702827,\n",
       "         6.29317915],\n",
       "        [1.60801451, 1.64229192, 0.        , ..., 1.42723962, 2.2688732 ,\n",
       "         6.96667937],\n",
       "        ...,\n",
       "        [1.23797549, 0.78891568, 1.42723962, ..., 0.        , 2.46364348,\n",
       "         7.01724763],\n",
       "        [1.92440501, 1.87702827, 2.2688732 , ..., 2.46364348, 0.        ,\n",
       "         5.11260609],\n",
       "        [6.35838512, 6.29317915, 6.96667937, ..., 7.01724763, 5.11260609,\n",
       "         0.        ]]),\n",
       " 'GG_Minkowski_Jaccard_Matching': array([[0.        , 1.01161589, 1.60801451, ..., 1.23797549, 1.92440501,\n",
       "         6.21923205],\n",
       "        [1.01161589, 0.        , 1.64229192, ..., 0.78891568, 1.87702827,\n",
       "         6.15255149],\n",
       "        [1.60801451, 1.64229192, 0.        , ..., 1.42723962, 2.2688732 ,\n",
       "         6.83991282],\n",
       "        ...,\n",
       "        [1.23797549, 0.78891568, 1.42723962, ..., 0.        , 2.46364348,\n",
       "         6.89141134],\n",
       "        [1.92440501, 1.87702827, 2.2688732 , ..., 2.46364348, 0.        ,\n",
       "         4.93847416],\n",
       "        [6.21923205, 6.15255149, 6.83991282, ..., 6.89141134, 4.93847416,\n",
       "         0.        ]]),\n",
       " 'GG_Canberra_Sokal_Matching': array([[0.        , 1.1089173 , 2.04873576, ..., 1.41070641, 2.47064802,\n",
       "         3.88007815],\n",
       "        [1.1089173 , 0.        , 1.81887649, ..., 1.10728448, 2.20656591,\n",
       "         3.66760203],\n",
       "        [2.04873576, 1.81887649, 0.        , ..., 1.51266848, 2.44536222,\n",
       "         3.67890583],\n",
       "        ...,\n",
       "        [1.41070641, 1.10728448, 1.51266848, ..., 0.        , 2.92569072,\n",
       "         4.05431191],\n",
       "        [2.47064802, 2.20656591, 2.44536222, ..., 2.92569072, 0.        ,\n",
       "         2.67423498],\n",
       "        [3.88007815, 3.66760203, 3.67890583, ..., 4.05431191, 2.67423498,\n",
       "         0.        ]]),\n",
       " 'GG_Canberra_Jaccard_Matching': array([[0.        , 1.1089173 , 2.04873576, ..., 1.41070641, 2.47064802,\n",
       "         3.64757349],\n",
       "        [1.1089173 , 0.        , 1.81887649, ..., 1.10728448, 2.20656591,\n",
       "         3.42068569],\n",
       "        [2.04873576, 1.81887649, 0.        , ..., 1.51266848, 2.44536222,\n",
       "         3.43280265],\n",
       "        ...,\n",
       "        [1.41070641, 1.10728448, 1.51266848, ..., 0.        , 2.92569072,\n",
       "         3.83239234],\n",
       "        [2.47064802, 2.20656591, 2.44536222, ..., 2.92569072, 0.        ,\n",
       "         2.32407372],\n",
       "        [3.64757349, 3.42068569, 3.43280265, ..., 3.83239234, 2.32407372,\n",
       "         0.        ]]),\n",
       " 'GG_Pearson_Sokal_Matching': array([[0.        , 1.0588577 , 1.62258227, ..., 1.13386485, 2.59878376,\n",
       "         4.5833716 ],\n",
       "        [1.0588577 , 0.        , 1.54980561, ..., 0.55073019, 2.36782324,\n",
       "         4.41160916],\n",
       "        [1.62258227, 1.54980561, 0.        , ..., 1.48883715, 2.15643298,\n",
       "         4.46893998],\n",
       "        ...,\n",
       "        [1.13386485, 0.55073019, 1.48883715, ..., 0.        , 2.64592015,\n",
       "         4.75194328],\n",
       "        [2.59878376, 2.36782324, 2.15643298, ..., 2.64592015, 0.        ,\n",
       "         3.34753806],\n",
       "        [4.5833716 , 4.41160916, 4.46893998, ..., 4.75194328, 3.34753806,\n",
       "         0.        ]]),\n",
       " 'GG_Pearson_Jaccard_Matching': array([[0.        , 1.0588577 , 1.62258227, ..., 1.13386485, 2.59878376,\n",
       "         4.38828909],\n",
       "        [1.0588577 , 0.        , 1.54980561, ..., 0.55073019, 2.36782324,\n",
       "         4.20857237],\n",
       "        [1.62258227, 1.54980561, 0.        , ..., 1.48883715, 2.15643298,\n",
       "         4.26863098],\n",
       "        ...,\n",
       "        [1.13386485, 0.55073019, 1.48883715, ..., 0.        , 2.64592015,\n",
       "         4.56407174],\n",
       "        [2.59878376, 2.36782324, 2.15643298, ..., 2.64592015, 0.        ,\n",
       "         3.07502796],\n",
       "        [4.38828909, 4.20857237, 4.26863098, ..., 4.56407174, 3.07502796,\n",
       "         0.        ]]),\n",
       " 'GG_Mahalanobis_Sokal_Matching': array([[0.        , 1.11128701, 1.9908619 , ..., 1.26642065, 2.97833241,\n",
       "         4.17851469],\n",
       "        [1.11128701, 0.        , 1.73337267, ..., 0.49510815, 2.64311668,\n",
       "         4.11353573],\n",
       "        [1.9908619 , 1.73337267, 0.        , ..., 1.5815777 , 1.99507289,\n",
       "         4.39053781],\n",
       "        ...,\n",
       "        [1.26642065, 0.49510815, 1.5815777 , ..., 0.        , 2.63417571,\n",
       "         4.3979867 ],\n",
       "        [2.97833241, 2.64311668, 1.99507289, ..., 2.63417571, 0.        ,\n",
       "         4.4698317 ],\n",
       "        [4.17851469, 4.11353573, 4.39053781, ..., 4.3979867 , 4.4698317 ,\n",
       "         0.        ]]),\n",
       " 'GG_Mahalanobis_Jaccard_Matching': array([[0.        , 1.11128701, 1.9908619 , ..., 1.26642065, 2.97833241,\n",
       "         3.96355535],\n",
       "        [1.11128701, 0.        , 1.73337267, ..., 0.49510815, 2.64311668,\n",
       "         3.89499193],\n",
       "        [1.9908619 , 1.73337267, 0.        , ..., 1.5815777 , 1.99507289,\n",
       "         4.18647921],\n",
       "        ...,\n",
       "        [1.26642065, 0.49510815, 1.5815777 , ..., 0.        , 2.63417571,\n",
       "         4.19429052],\n",
       "        [2.97833241, 2.64311668, 1.99507289, ..., 2.63417571, 0.        ,\n",
       "         4.26956454],\n",
       "        [3.96355535, 3.89499193, 4.18647921, ..., 4.19429052, 4.26956454,\n",
       "         0.        ]]),\n",
       " 'GG_Robust_Mahalanobis_Sokal_Matching_trimmed': array([[0.        , 1.0738818 , 1.81990287, ..., 1.17982158, 2.83584093,\n",
       "         4.38026385],\n",
       "        [1.0738818 , 0.        , 1.64744788, ..., 0.39866732, 2.61869851,\n",
       "         4.3233478 ],\n",
       "        [1.81990287, 1.64744788, 0.        , ..., 1.53344794, 1.97466567,\n",
       "         4.56660697],\n",
       "        ...,\n",
       "        [1.17982158, 0.39866732, 1.53344794, ..., 0.        , 2.54962302,\n",
       "         4.5492545 ],\n",
       "        [2.83584093, 2.61869851, 1.97466567, ..., 2.54962302, 0.        ,\n",
       "         5.16721825],\n",
       "        [4.38026385, 4.3233478 , 4.56660697, ..., 4.5492545 , 5.16721825,\n",
       "         0.        ]]),\n",
       " 'GG_Robust_Mahalanobis_Sokal_Matching_winsorized': array([[0.        , 1.10035027, 1.96521318, ..., 1.24876507, 3.02193061,\n",
       "         4.2158267 ],\n",
       "        [1.10035027, 0.        , 1.72244788, ..., 0.45786845, 2.71169847,\n",
       "         4.170886  ],\n",
       "        [1.96521318, 1.72244788, 0.        , ..., 1.57396145, 2.01907767,\n",
       "         4.45138733],\n",
       "        ...,\n",
       "        [1.24876507, 0.45786845, 1.57396145, ..., 0.        , 2.6589383 ,\n",
       "         4.42575055],\n",
       "        [3.02193061, 2.71169847, 2.01907767, ..., 2.6589383 , 0.        ,\n",
       "         4.74960743],\n",
       "        [4.2158267 , 4.170886  , 4.45138733, ..., 4.42575055, 4.74960743,\n",
       "         0.        ]]),\n",
       " 'GG_Robust_Mahalanobis_Sokal_Matching_MAD': array([[0.        , 1.09006233, 1.80375514, ..., 1.18201607, 2.67497233,\n",
       "         4.55678538],\n",
       "        [1.09006233, 0.        , 1.62058379, ..., 0.44488228, 2.40606721,\n",
       "         4.40232615],\n",
       "        [1.80375514, 1.62058379, 0.        , ..., 1.53278692, 1.93813141,\n",
       "         4.46679441],\n",
       "        ...,\n",
       "        [1.18201607, 0.44488228, 1.53278692, ..., 0.        , 2.48916367,\n",
       "         4.64371521],\n",
       "        [2.67497233, 2.40606721, 1.93813141, ..., 2.48916367, 0.        ,\n",
       "         4.16671594],\n",
       "        [4.55678538, 4.40232615, 4.46679441, ..., 4.64371521, 4.16671594,\n",
       "         0.        ]]),\n",
       " 'GG_Robust_Mahalanobis_Jaccard_Matching_trimmed': array([[0.        , 1.0738818 , 1.81990287, ..., 1.17982158, 2.83584093,\n",
       "         4.17570322],\n",
       "        [1.0738818 , 0.        , 1.64744788, ..., 0.39866732, 2.61869851,\n",
       "         4.11595944],\n",
       "        [1.81990287, 1.64744788, 0.        , ..., 1.53344794, 1.97466567,\n",
       "         4.37077626],\n",
       "        ...,\n",
       "        [1.17982158, 0.39866732, 1.53344794, ..., 0.        , 2.54962302,\n",
       "         4.35264315],\n",
       "        [2.83584093, 2.61869851, 1.97466567, ..., 2.54962302, 0.        ,\n",
       "         4.99499053],\n",
       "        [4.17570322, 4.11595944, 4.37077626, ..., 4.35264315, 4.99499053,\n",
       "         0.        ]]),\n",
       " 'GG_Robust_Mahalanobis_Jaccard_Matching_winsorized': array([[0.        , 1.10035027, 1.96521318, ..., 1.24876507, 3.02193061,\n",
       "         4.00287155],\n",
       "        [1.10035027, 0.        , 1.72244788, ..., 0.45786845, 2.71169847,\n",
       "         3.95551209],\n",
       "        [1.96521318, 1.72244788, 0.        , ..., 1.57396145, 2.01907767,\n",
       "         4.25025118],\n",
       "        ...,\n",
       "        [1.24876507, 0.45786845, 1.57396145, ..., 0.        , 2.6589383 ,\n",
       "         4.22339365],\n",
       "        [3.02193061, 2.71169847, 2.01907767, ..., 2.6589383 , 0.        ,\n",
       "         4.5616397 ],\n",
       "        [4.00287155, 3.95551209, 4.25025118, ..., 4.22339365, 4.5616397 ,\n",
       "         0.        ]]),\n",
       " 'GG_Robust_Mahalanobis_Jaccard_Matching_MAD': array([[0.        , 1.09006233, 1.80375514, ..., 1.18201607, 2.67497233,\n",
       "         4.36051361],\n",
       "        [1.09006233, 0.        , 1.62058379, ..., 0.44488228, 2.40606721,\n",
       "         4.19884049],\n",
       "        [1.80375514, 1.62058379, 0.        , ..., 1.53278692, 1.93813141,\n",
       "         4.26638468],\n",
       "        ...,\n",
       "        [1.18201607, 0.44488228, 1.53278692, ..., 0.        , 2.48916367,\n",
       "         4.45127812],\n",
       "        [2.67497233, 2.40606721, 1.93813141, ..., 2.48916367, 0.        ,\n",
       "         3.95111474],\n",
       "        [4.36051361, 4.19884049, 4.26638468, ..., 4.45127812, 3.95111474,\n",
       "         0.        ]]),\n",
       " 'RelMS_Euclidean_Sokal_Matching': array([[0.        , 1.01092438, 1.68587263, ..., 1.2435966 , 1.75479379,\n",
       "         5.76354972],\n",
       "        [1.01092436, 0.        , 1.72123768, ..., 0.78892531, 1.71977376,\n",
       "         5.69924943],\n",
       "        [1.68587264, 1.7212377 , 0.        , ..., 1.42997022, 2.20660915,\n",
       "         6.5504967 ],\n",
       "        ...,\n",
       "        [1.24359658, 0.78892532, 1.42997021, ..., 0.        , 2.26671431,\n",
       "         6.42377887],\n",
       "        [1.7547938 , 1.71977375, 2.20660914, ..., 2.26671431, 0.        ,\n",
       "         4.781135  ],\n",
       "        [5.76354972, 5.69924943, 6.55049671, ..., 6.42377887, 4.78113499,\n",
       "         0.        ]]),\n",
       " 'RelMS_Euclidean_Jaccard_Matching': array([[0.        , 1.01092435, 1.68587263, ..., 1.24359659, 1.75479381,\n",
       "         5.73873464],\n",
       "        [1.01092437, 0.        , 1.72123769, ..., 0.78892532, 1.71977378,\n",
       "         5.67208311],\n",
       "        [1.68587264, 1.72123769, 0.        , ..., 1.42997021, 2.20660914,\n",
       "         6.53309456],\n",
       "        ...,\n",
       "        [1.24359658, 0.78892529, 1.42997021, ..., 0.        , 2.26671431,\n",
       "         6.41402297],\n",
       "        [1.7547938 , 1.71977375, 2.20660914, ..., 2.2667143 , 0.        ,\n",
       "         4.6957284 ],\n",
       "        [5.73873463, 5.67208312, 6.53309457, ..., 6.41402297, 4.69572838,\n",
       "         0.        ]]),\n",
       " 'RelMS_Minkowski_Sokal_Matching': array([[0.        , 1.0104344 , 1.68473307, ..., 1.24302039, 1.75451827,\n",
       "         5.7636572 ],\n",
       "        [1.01043437, 0.        , 1.72039524, ..., 0.78891568, 1.71978231,\n",
       "         5.69946617],\n",
       "        [1.68473308, 1.72039525, 0.        , ..., 1.42922921, 2.20651554,\n",
       "         6.55109162],\n",
       "        ...,\n",
       "        [1.24302037, 0.7889157 , 1.4292292 , ..., 0.        , 2.2667207 ,\n",
       "         6.42402052],\n",
       "        [1.75451827, 1.71978229, 2.20651553, ..., 2.2667207 , 0.        ,\n",
       "         4.78235997],\n",
       "        [5.7636572 , 5.69946616, 6.55109161, ..., 6.42402052, 4.78235997,\n",
       "         0.        ]]),\n",
       " 'RelMS_Minkowski_Jaccard_Matching': array([[0.        , 1.01043437, 1.68473307, ..., 1.24302038, 1.75451828,\n",
       "         5.73875343],\n",
       "        [1.01043439, 0.        , 1.72039525, ..., 0.78891569, 1.71978232,\n",
       "         5.67221733],\n",
       "        [1.68473307, 1.72039524, 0.        , ..., 1.4292292 , 2.20651553,\n",
       "         6.5336026 ],\n",
       "        ...,\n",
       "        [1.24302038, 0.78891568, 1.4292292 , ..., 0.        , 2.2667207 ,\n",
       "         6.41417732],\n",
       "        [1.75451828, 1.7197823 , 2.20651553, ..., 2.2667207 , 0.        ,\n",
       "         4.6969009 ],\n",
       "        [5.73875342, 5.67221732, 6.5336026 , ..., 6.41417732, 4.6969009 ,\n",
       "         0.        ]]),\n",
       " 'RelMS_Canberra_Sokal_Matching': array([[0.        , 3.29475825, 3.63767326, ..., 3.42002989, 3.78234978,\n",
       "         4.28387746],\n",
       "        [3.29475817, 0.        , 3.54627477, ..., 3.36365755, 3.64707779,\n",
       "         4.11290306],\n",
       "        [3.63767327, 3.5462748 , 0.        , ..., 3.36371231, 3.88636668,\n",
       "         4.26421609],\n",
       "        ...,\n",
       "        [3.42002989, 3.36365756, 3.36371231, ..., 0.        , 4.08835735,\n",
       "         4.43146723],\n",
       "        [3.78234979, 3.64707779, 3.88636667, ..., 4.08835736, 0.        ,\n",
       "         3.55682862],\n",
       "        [4.28387745, 4.11290305, 4.26421607, ..., 4.43146723, 3.55682862,\n",
       "         0.        ]]),\n",
       " 'RelMS_Canberra_Jaccard_Matching': array([[0.        , 3.29475816, 3.63767325, ..., 3.42002988, 3.7823498 ,\n",
       "         4.18398249],\n",
       "        [3.29475818, 0.        , 3.54627479, ..., 3.36365756, 3.64707782,\n",
       "         4.00084943],\n",
       "        [3.63767326, 3.54627478, 0.        , ..., 3.36371229, 3.88636666,\n",
       "         4.15092751],\n",
       "        ...,\n",
       "        [3.42002988, 3.36365755, 3.36371228, ..., 0.        , 4.08835736,\n",
       "         4.3378168 ],\n",
       "        [3.78234979, 3.64707778, 3.88636666, ..., 4.08835735, 0.        ,\n",
       "         3.36218137],\n",
       "        [4.18398248, 4.00084941, 4.15092752, ..., 4.3378168 , 3.36218137,\n",
       "         0.        ]]),\n",
       " 'RelMS_Pearson_Sokal_Matching': array([[0.        , 1.04250916, 1.57029271, ..., 1.11835441, 2.35030151,\n",
       "         3.99961285],\n",
       "        [1.04250913, 0.        , 1.55642417, ..., 0.55073019, 2.17276224,\n",
       "         3.83629275],\n",
       "        [1.5702927 , 1.55642418, 0.        , ..., 1.44481248, 2.11094744,\n",
       "         4.05200057],\n",
       "        ...,\n",
       "        [1.11835439, 0.55073021, 1.44481248, ..., 0.        , 2.43447697,\n",
       "         4.16544183],\n",
       "        [2.35030151, 2.17276223, 2.11094745, ..., 2.43447697, 0.        ,\n",
       "         3.00502738],\n",
       "        [3.99961283, 3.83629274, 4.05200056, ..., 4.16544183, 3.00502738,\n",
       "         0.        ]]),\n",
       " 'RelMS_Pearson_Jaccard_Matching': array([[0.        , 1.04250913, 1.57029271, ..., 1.11835441, 2.35030152,\n",
       "         3.89789603],\n",
       "        [1.04250915, 0.        , 1.55642418, ..., 0.55073023, 2.17276226,\n",
       "         3.72479069],\n",
       "        [1.5702927 , 1.55642415, 0.        , ..., 1.44481247, 2.11094744,\n",
       "         3.94329467],\n",
       "        ...,\n",
       "        [1.11835439, 0.55073016, 1.44481248, ..., 0.        , 2.43447698,\n",
       "         4.07654071],\n",
       "        [2.35030152, 2.17276223, 2.11094745, ..., 2.43447697, 0.        ,\n",
       "         2.77842982],\n",
       "        [3.89789601, 3.72479067, 3.94329467, ..., 4.0765407 , 2.77842982,\n",
       "         0.        ]]),\n",
       " 'RelMS_Mahalanobis_Sokal_Matching': array([[0.        , 1.0872495 , 1.91566724, ..., 1.23718333, 2.78694322,\n",
       "         3.59368169],\n",
       "        [1.08724948, 0.        , 1.72190382, ..., 0.49510814, 2.51013925,\n",
       "         3.52430362],\n",
       "        [1.91566725, 1.72190383, 0.        , ..., 1.53860587, 1.97114821,\n",
       "         3.91897956],\n",
       "        ...,\n",
       "        [1.23718333, 0.49510818, 1.53860586, ..., 0.        , 2.47401146,\n",
       "         3.7944967 ],\n",
       "        [2.78694323, 2.51013924, 1.97114821, ..., 2.47401146, 0.        ,\n",
       "         4.10401609],\n",
       "        [3.59368167, 3.52430361, 3.91897955, ..., 3.7944967 , 4.10401609,\n",
       "         0.        ]]),\n",
       " 'RelMS_Mahalanobis_Jaccard_Matching': array([[0.        , 1.08724947, 1.91566724, ..., 1.23718333, 2.78694323,\n",
       "         3.46907215],\n",
       "        [1.0872495 , 0.        , 1.72190383, ..., 0.49510817, 2.51013926,\n",
       "         3.39550188],\n",
       "        [1.91566724, 1.72190381, 0.        , ..., 1.53860586, 1.97114821,\n",
       "         3.80535063],\n",
       "        ...,\n",
       "        [1.23718333, 0.49510812, 1.53860586, ..., 0.        , 2.47401147,\n",
       "         3.68911387],\n",
       "        [2.78694323, 2.51013924, 1.97114821, ..., 2.47401147, 0.        ,\n",
       "         3.96214705],\n",
       "        [3.46907213, 3.39550187, 3.80535063, ..., 3.68911387, 3.96214705,\n",
       "         0.        ]]),\n",
       " 'RelMS_Robust_Mahalanobis_Sokal_Matching_trimmed': array([[0.        , 1.05396495, 1.74951184, ..., 1.15390312, 2.67058462,\n",
       "         3.82780883],\n",
       "        [1.05396493, 0.        , 1.63479812, ..., 0.39866731, 2.51224528,\n",
       "         3.76362714],\n",
       "        [1.74951185, 1.63479814, 0.        , ..., 1.49657109, 1.961588  ,\n",
       "         4.09825745],\n",
       "        ...,\n",
       "        [1.15390311, 0.39866735, 1.49657109, ..., 0.        , 2.41854434,\n",
       "         3.97375586],\n",
       "        [2.67058463, 2.51224527, 1.961588  , ..., 2.41854434, 0.        ,\n",
       "         4.81269468],\n",
       "        [3.82780882, 3.76362713, 4.09825744, ..., 3.97375586, 4.81269468,\n",
       "         0.        ]]),\n",
       " 'RelMS_Robust_Mahalanobis_Sokal_Matching_winsorized': array([[0.        , 1.07688717, 1.88851059, ..., 1.21940102, 2.83800382,\n",
       "         3.64003684],\n",
       "        [1.07688713, 0.        , 1.70819251, ..., 0.45786842, 2.58662722,\n",
       "         3.59029333],\n",
       "        [1.8885106 , 1.70819253, 0.        , ..., 1.53220354, 1.99808026,\n",
       "         3.97860895],\n",
       "        ...,\n",
       "        [1.21940101, 0.45786849, 1.53220353, ..., 0.        , 2.50787408,\n",
       "         3.829693  ],\n",
       "        [2.83800382, 2.58662721, 1.99808026, ..., 2.50787408, 0.        ,\n",
       "         4.38739858],\n",
       "        [3.64003683, 3.59029333, 3.97860894, ..., 3.829693  , 4.38739858,\n",
       "         0.        ]]),\n",
       " 'RelMS_Robust_Mahalanobis_Sokal_Matching_MAD': array([[0.        , 1.06915308, 1.73228661, ..., 1.15789936, 2.45834684,\n",
       "         3.97049139],\n",
       "        [1.06915305, 0.        , 1.61195487, ..., 0.44488227, 2.24973009,\n",
       "         3.81621214],\n",
       "        [1.73228661, 1.61195488, 0.        , ..., 1.4894837 , 1.90536576,\n",
       "         4.00431571],\n",
       "        ...,\n",
       "        [1.15789934, 0.44488231, 1.4894837 , ..., 0.        , 2.30824179,\n",
       "         4.04102682],\n",
       "        [2.45834685, 2.24973009, 1.90536577, ..., 2.30824178, 0.        ,\n",
       "         3.79967402],\n",
       "        [3.97049139, 3.81621213, 4.0043157 , ..., 4.04102682, 3.79967402,\n",
       "         0.        ]]),\n",
       " 'RelMS_Robust_Mahalanobis_Jaccard_Matching_trimmed': array([[0.        , 1.05396492, 1.74951184, ..., 1.15390312, 2.67058463,\n",
       "         3.7103996 ],\n",
       "        [1.05396495, 0.        , 1.63479813, ..., 0.39866734, 2.51224529,\n",
       "         3.64245313],\n",
       "        [1.74951185, 1.63479812, 0.        , ..., 1.49657109, 1.961588  ,\n",
       "         3.98729219],\n",
       "        ...,\n",
       "        [1.15390311, 0.39866728, 1.49657109, ..., 0.        , 2.41854435,\n",
       "         3.87035377],\n",
       "        [2.67058464, 2.51224527, 1.961588  , ..., 2.41854434, 0.        ,\n",
       "         4.69932707],\n",
       "        [3.71039959, 3.64245311, 3.9872922 , ..., 3.87035377, 4.69932707,\n",
       "         0.        ]]),\n",
       " 'RelMS_Robust_Mahalanobis_Jaccard_Matching_winsorized': array([[0.        , 1.07688714, 1.88851059, ..., 1.21940102, 2.83800383,\n",
       "         3.51619033],\n",
       "        [1.07688715, 0.        , 1.70819252, ..., 0.45786846, 2.58662723,\n",
       "         3.46347473],\n",
       "        [1.88851059, 1.70819251, 0.        , ..., 1.53220354, 1.99808026,\n",
       "         3.86606614],\n",
       "        ...,\n",
       "        [1.219401  , 0.45786843, 1.53220353, ..., 0.        , 2.50787409,\n",
       "         3.72394257],\n",
       "        [2.83800382, 2.58662721, 1.99808026, ..., 2.50787408, 0.        ,\n",
       "         4.25828147],\n",
       "        [3.51619032, 3.46347472, 3.86606614, ..., 3.72394256, 4.25828147,\n",
       "         0.        ]]),\n",
       " 'RelMS_Robust_Mahalanobis_Jaccard_Matching_MAD': array([[0.        , 1.06915304, 1.73228661, ..., 1.15789935, 2.45834686,\n",
       "         3.86694579],\n",
       "        [1.06915307, 0.        , 1.61195488, ..., 0.4448823 , 2.24973011,\n",
       "         3.7045599 ],\n",
       "        [1.7322866 , 1.61195486, 0.        , ..., 1.48948369, 1.90536575,\n",
       "         3.89571711],\n",
       "        ...,\n",
       "        [1.15789934, 0.44488225, 1.48948369, ..., 0.        , 2.30824179,\n",
       "         3.9478467 ],\n",
       "        [2.45834686, 2.24973009, 1.90536576, ..., 2.30824179, 0.        ,\n",
       "         3.64285626],\n",
       "        [3.86694578, 3.70455988, 3.8957171 , ..., 3.9478467 , 3.64285626,\n",
       "         0.        ]])}"
      ]
     },
     "execution_count": 49,
     "metadata": {},
     "output_type": "execute_result"
    }
   ],
   "source": [
    "dic_distance_matrix"
   ]
  }
 ],
 "metadata": {
  "kernelspec": {
   "display_name": "Python 3",
   "language": "python",
   "name": "python3"
  },
  "language_info": {
   "codemirror_mode": {
    "name": "ipython",
    "version": 3
   },
   "file_extension": ".py",
   "mimetype": "text/x-python",
   "name": "python",
   "nbconvert_exporter": "python",
   "pygments_lexer": "ipython3",
   "version": "3.10.0"
  },
  "orig_nbformat": 4
 },
 "nbformat": 4,
 "nbformat_minor": 2
}
